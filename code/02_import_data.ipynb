{
 "cells": [
  {
   "cell_type": "markdown",
   "id": "70db2580-2f31-464b-a62e-6ebbd6ae42a9",
   "metadata": {},
   "source": [
    "# Importing .mat data and accessing data in nested arrays"
   ]
  },
  {
   "cell_type": "markdown",
   "id": "30c9f0a2-2ada-46fe-840b-1ea15716e859",
   "metadata": {},
   "source": [
    "#### About the data\n",
    "\n",
    "1. data folder contains five directories, one for each animal (T1, S2, Q1, R1, N2)\n",
    "\n",
    "2. Data is organized in a nested fashion within each animal's folder in the form of `cells` and `MATLAB structures`. A `MATLAB structure` is like a python `dictionary`: it has field names and values. You can access each value using the field name, just like you use keys in a python `dictionary`. A `cell` is like an array in python. It can contain arrays inside it. The first level of data corresponds to each day of recording. The second level corresponds to each epoch of that day. The third level corresponds to each tetrode that was recorded from in that epoch, and the last level corresponds to cells that were clustered from that tetrode. \n",
    "\n",
    "3. each directory contains `.mat` files:<br>\n",
    "    i. `cellinfo.mat` :  has information about each unit that was recorded and clustered: whether it was recorded from the hippocampus (where it will say `CA1`), or from the pre-frontal cortex( where it will say `PFC`).  <br>\n",
    "    ii. `eeg.mat` : contains raw eeg or local field potential<br>\n",
    "    iii. `rawpos.mat` : non-interpolated position derived from semiautomated processing of video files. `rawpos{day}{epoch}` has the following fields: <br>\n",
    "           - data (Nx3) <br>\n",
    "           - fields (string, gives information about each column of data) <br>\n",
    "           - cmperpix: size of a video pixel in centimeters. zeros in the data indicate positions where the animal was not tracked and the experimenter did not fill in the location manually. Valid positions are present at least every 3 – 10 frames, depending on the epochs.<br>\n",
    "    iv. `spikes.mat` : this is the data we're really interested in: this contains the times at with each unit (or clustered neuron) fired an action potential and the x and y coordinates of the animal at that time. spiking data from clustered units. `spikes{day}{epoch}{tetrode}{unit}` has the following fields :\n",
    "        1. data: (Nx7)\n",
    "        2. descript: ‘spike data’\n",
    "        3. fields : identities of columns in data. We suggest that people only use the spike times and re-derive the other fields when needed so they understand how they are generated. \n",
    "        4. depth – if specified, this is the number of 1/12ths of a turn of a 0x80 (80 threads / inch) screw from the bottom of the microdrive at which these data were collected. To convert to mm, multiply by 0.0265. \n",
    "        5. spikewidth: width, in points sampled at 30 KHz, of spike from peak to trough. To convert to ms, divide by 30. \n",
    "        6. timerange: start and end time of epoch in 10KHz units.\n",
    "    v. `task.mat` : information about the task that the animal was doing during that epoch<br>\n",
    "    vi. `tetinfo.mat` : information about each tetrode and where it was located in the brain <br>\n"
   ]
  },
  {
   "cell_type": "code",
   "execution_count": 47,
   "id": "953c7b94-4f86-4f0b-b1bc-64b89c89e98f",
   "metadata": {},
   "outputs": [],
   "source": [
    "import scipy.io as spio # you will need this library to import .mat data into python\n",
    "import numpy as np \n",
    "import pandas as pd"
   ]
  },
  {
   "cell_type": "code",
   "execution_count": 48,
   "id": "61dc4723-bab3-4e64-bf19-9efebe2dfb73",
   "metadata": {},
   "outputs": [],
   "source": [
    "matfile = '../data/N2/N2spikes.mat' # lets look at the spike data for rat N2 to begin with"
   ]
  },
  {
   "cell_type": "markdown",
   "id": "bc1456fa-e57a-49f3-9926-85055386c0e0",
   "metadata": {},
   "source": [
    "to load the `.mat` file, we will specify and set the `squeeze_me` parameter when using `loadmat` because it makes it easier to access data within each file. Specifically, it uses the `.squeeze()` function to discards any _empty_ dimensions. For instance, if the shape of an array is (10,1) that means it just a one dimensional array. Setting this parameter to true will make it so that any arrays in the data that has shapes like (10,1) become (10,). \n",
    "\n",
    "(P.S if you're interested, look at the documentation for [`scipi.io.loadmat`](https://docs.scipy.org/doc/scipy/reference/generated/scipy.io.loadmat.html) for what setting each parameter in the function does)\n",
    "\n",
    "For instance run the following cells to understand what's happening here:"
   ]
  },
  {
   "cell_type": "code",
   "execution_count": 3,
   "id": "3835eea8-e050-4a90-9afc-fb5d2cb14753",
   "metadata": {},
   "outputs": [
    {
     "data": {
      "text/plain": [
       "(3,)"
      ]
     },
     "execution_count": 3,
     "metadata": {},
     "output_type": "execute_result"
    }
   ],
   "source": [
    "test_array_1 = np.array([1, 2, 3]) #this is a one-dimensional array\n",
    "test_array_1.shape"
   ]
  },
  {
   "cell_type": "code",
   "execution_count": 6,
   "id": "bbcd4fc2-89a3-48ac-8538-0639d4529468",
   "metadata": {},
   "outputs": [
    {
     "data": {
      "text/plain": [
       "(3, 4)"
      ]
     },
     "execution_count": 6,
     "metadata": {},
     "output_type": "execute_result"
    }
   ],
   "source": [
    "test_array_2 = np.array([\n",
    "    [1, 2, 3, 5], \n",
    "    [4, 5, 6, 5], \n",
    "    [7, 8, 9, 5]\n",
    "]) #this is a two-dimensional array.\n",
    "   # note the number of brackets: [[]]\n",
    "test_array_2.shape"
   ]
  },
  {
   "cell_type": "code",
   "execution_count": 12,
   "id": "3da84e39-6393-45b0-9d9e-73967b88e483",
   "metadata": {},
   "outputs": [
    {
     "data": {
      "text/plain": [
       "(1, 3, 3)"
      ]
     },
     "execution_count": 12,
     "metadata": {},
     "output_type": "execute_result"
    }
   ],
   "source": [
    "test_array_3 = np.array([[\n",
    "    [1, 2, 3], \n",
    "    [4, 5, 6], \n",
    "    [7, 8, 9]],\n",
    "]) \n",
    "# this is a three-dimensional array with no data in the third dimension. \n",
    "# Think of a cube with a height of 3 (3 rows), a width of 3 (3 columns) and a depth of 0. \n",
    "# That's not really a cube, it's just a square with an empty dimension, the depth. \n",
    "test_array_3.shape"
   ]
  },
  {
   "cell_type": "code",
   "execution_count": 13,
   "id": "aa830f76-91f8-4fa7-a761-68d36bbe7a4f",
   "metadata": {},
   "outputs": [
    {
     "data": {
      "text/plain": [
       "(3, 3)"
      ]
     },
     "execution_count": 13,
     "metadata": {},
     "output_type": "execute_result"
    }
   ],
   "source": [
    "# using the .squeeze() function, you can just drop the empty-dimension\n",
    "# and make your 3 dimensional array with the useless 3rd dimension, into a 2 dimensional array\n",
    "# essentially, it drops the extra brackets. \n",
    "\n",
    "test_array_3_squeezed = test_array_3.squeeze()\n",
    "test_array_3_squeezed.shape"
   ]
  },
  {
   "cell_type": "markdown",
   "id": "acff5f7f-cb13-4661-866e-5fdf1b4fed41",
   "metadata": {},
   "source": [
    "**Coming back to our data:**"
   ]
  },
  {
   "cell_type": "code",
   "execution_count": 14,
   "id": "b9d924f4-0a3f-439d-899e-7d9c352d0fe6",
   "metadata": {},
   "outputs": [],
   "source": [
    "data = spio.loadmat(matfile, squeeze_me=True) \n",
    "\n",
    "# .mat file is loaded as a dictionary"
   ]
  },
  {
   "cell_type": "code",
   "execution_count": 15,
   "id": "9095b12a-c866-4724-9824-a63be1749684",
   "metadata": {},
   "outputs": [
    {
     "data": {
      "text/plain": [
       "dict_keys(['__header__', '__version__', '__globals__', 'spikes'])"
      ]
     },
     "execution_count": 15,
     "metadata": {},
     "output_type": "execute_result"
    }
   ],
   "source": [
    "data.keys()"
   ]
  },
  {
   "cell_type": "markdown",
   "id": "3917e418-e88e-4a16-9863-c1338f3f5416",
   "metadata": {},
   "source": [
    "we're only interested in the values associated with the 'spikes' key. \n",
    "We know from the data description that the first level of organization of the data is days of recording. So each element of the array `data['spikes']` is going to correspond to one day of recording. \n",
    "\n",
    "You can use the `.size` function to determine the number of elements in the array. `.shape` tells you the dimensions. So an array with dimensions (3, 3) has a size of 9. \n"
   ]
  },
  {
   "cell_type": "code",
   "execution_count": 16,
   "id": "d14f37c7-6ee8-4c73-b5ae-e18e8f505c87",
   "metadata": {},
   "outputs": [
    {
     "data": {
      "text/plain": [
       "array([[1, 2, 3, 5],\n",
       "       [4, 5, 6, 5],\n",
       "       [7, 8, 9, 5]])"
      ]
     },
     "execution_count": 16,
     "metadata": {},
     "output_type": "execute_result"
    }
   ],
   "source": [
    "test_array_2"
   ]
  },
  {
   "cell_type": "code",
   "execution_count": 17,
   "id": "ba1dba1e-ae40-45d3-9504-da8682ac7ccd",
   "metadata": {},
   "outputs": [
    {
     "data": {
      "text/plain": [
       "(3, 4)"
      ]
     },
     "execution_count": 17,
     "metadata": {},
     "output_type": "execute_result"
    }
   ],
   "source": [
    "test_array_2.shape"
   ]
  },
  {
   "cell_type": "code",
   "execution_count": 18,
   "id": "bc77ad98-fcf3-44e7-8f2d-c3c7fc8e1d60",
   "metadata": {},
   "outputs": [
    {
     "data": {
      "text/plain": [
       "12"
      ]
     },
     "execution_count": 18,
     "metadata": {},
     "output_type": "execute_result"
    }
   ],
   "source": [
    "test_array_2.size"
   ]
  },
  {
   "cell_type": "markdown",
   "id": "a7fb1c68-79a4-4528-80a9-7d8b296544d7",
   "metadata": {},
   "source": [
    "**Coming back to our data**"
   ]
  },
  {
   "cell_type": "code",
   "execution_count": 19,
   "id": "72df4eeb-763f-4cea-90b2-5ad3cc1428e9",
   "metadata": {},
   "outputs": [
    {
     "data": {
      "text/plain": [
       "10"
      ]
     },
     "execution_count": 19,
     "metadata": {},
     "output_type": "execute_result"
    }
   ],
   "source": [
    "num_of_days = data['spikes'].size #number of days of recording\n",
    "num_of_days"
   ]
  },
  {
   "cell_type": "markdown",
   "id": "e1c5c08f-51cf-4ae6-8d82-d0000c985377",
   "metadata": {},
   "source": [
    "Next, we know that the second level corresponds to each epoch of recording. We can determine the number of epochs for each day by looking at the size of the array for each day. "
   ]
  },
  {
   "cell_type": "code",
   "execution_count": 20,
   "id": "08772abb-decd-4159-adfc-b1933672c5e3",
   "metadata": {},
   "outputs": [
    {
     "data": {
      "text/plain": [
       "6"
      ]
     },
     "execution_count": 20,
     "metadata": {},
     "output_type": "execute_result"
    }
   ],
   "source": [
    "num_of_epochs = data['spikes'][0].size\n",
    "num_of_epochs"
   ]
  },
  {
   "cell_type": "markdown",
   "id": "9aba8bb6-f9d7-433c-96f3-1b37d919c16e",
   "metadata": {},
   "source": [
    "The next level of organization is tetrodes recorded from for each epoch. "
   ]
  },
  {
   "cell_type": "code",
   "execution_count": 21,
   "id": "32d3c09d-b4a8-439e-b3b4-c5228c84d8ec",
   "metadata": {},
   "outputs": [
    {
     "data": {
      "text/plain": [
       "0"
      ]
     },
     "execution_count": 21,
     "metadata": {},
     "output_type": "execute_result"
    }
   ],
   "source": [
    "num_of_tetrodes = data['spikes'][0][0].size\n",
    "num_of_tetrodes"
   ]
  },
  {
   "cell_type": "markdown",
   "id": "32fc58b4-a888-4dad-b995-2770bdc81c22",
   "metadata": {},
   "source": [
    "It looks like there was no usable data recorded during epoch 0 of day 0. Let's try epoch 1. "
   ]
  },
  {
   "cell_type": "code",
   "execution_count": 22,
   "id": "f5d6139b-41b9-46c9-a3a7-27631c6fa419",
   "metadata": {},
   "outputs": [
    {
     "data": {
      "text/plain": [
       "19"
      ]
     },
     "execution_count": 22,
     "metadata": {},
     "output_type": "execute_result"
    }
   ],
   "source": [
    "num_of_tetrodes = data['spikes'][0][1].size\n",
    "num_of_tetrodes"
   ]
  },
  {
   "cell_type": "markdown",
   "id": "3d1d9c47-f42d-4aa6-b2eb-0aff147bf306",
   "metadata": {},
   "source": [
    "The next level of organization is clustered units, or neurons from each tetrode. "
   ]
  },
  {
   "cell_type": "code",
   "execution_count": 23,
   "id": "b04a3ab7-ab0f-4069-8790-9faf40135398",
   "metadata": {},
   "outputs": [
    {
     "data": {
      "text/plain": [
       "0"
      ]
     },
     "execution_count": 23,
     "metadata": {},
     "output_type": "execute_result"
    }
   ],
   "source": [
    "# some tetrodes have 0 units, like tetrode 0, and 1\n",
    "num_of_units = data['spikes'][0][1][1].size\n",
    "num_of_units"
   ]
  },
  {
   "cell_type": "code",
   "execution_count": 24,
   "id": "14dccfb2-a243-485f-9499-7b093a34a2c5",
   "metadata": {},
   "outputs": [
    {
     "data": {
      "text/plain": [
       "1"
      ]
     },
     "execution_count": 24,
     "metadata": {},
     "output_type": "execute_result"
    }
   ],
   "source": [
    "# some tetrodes have 1 unit, like tetrode 2\n",
    "num_of_units = data['spikes'][0][1][2].size\n",
    "num_of_units"
   ]
  },
  {
   "cell_type": "code",
   "execution_count": 25,
   "id": "6db26669-41b5-4aee-b39b-6786b0dac94b",
   "metadata": {},
   "outputs": [
    {
     "data": {
      "text/plain": [
       "3"
      ]
     },
     "execution_count": 25,
     "metadata": {},
     "output_type": "execute_result"
    }
   ],
   "source": [
    "# some tetrodes have more than one unit, like tetrode 7\n",
    "num_of_units = data['spikes'][0][1][7].size\n",
    "num_of_units"
   ]
  },
  {
   "cell_type": "markdown",
   "id": "7ad881b7-bfb7-406b-aeaa-69f80662e184",
   "metadata": {},
   "source": [
    "Now, let's try to access the data for one unit. Clearly from the indexing we've done so far, to access data from day0, epoch1, tetrode3, unit0, we need to type out the following: "
   ]
  },
  {
   "cell_type": "code",
   "execution_count": 26,
   "id": "981f17d8-6327-4aef-a5f2-b4586044b33e",
   "metadata": {},
   "outputs": [
    {
     "ename": "IndexError",
     "evalue": "too many indices for array: array is 0-dimensional, but 1 were indexed",
     "output_type": "error",
     "traceback": [
      "\u001b[1;31m---------------------------------------------------------------------------\u001b[0m",
      "\u001b[1;31mIndexError\u001b[0m                                Traceback (most recent call last)",
      "\u001b[1;32mC:\\Users\\LAVANY~1\\AppData\\Local\\Temp/ipykernel_58136/2582037341.py\u001b[0m in \u001b[0;36m<module>\u001b[1;34m\u001b[0m\n\u001b[1;32m----> 1\u001b[1;33m \u001b[0mdata\u001b[0m\u001b[1;33m[\u001b[0m\u001b[1;34m'spikes'\u001b[0m\u001b[1;33m]\u001b[0m\u001b[1;33m[\u001b[0m\u001b[1;36m0\u001b[0m\u001b[1;33m]\u001b[0m\u001b[1;33m[\u001b[0m\u001b[1;36m1\u001b[0m\u001b[1;33m]\u001b[0m\u001b[1;33m[\u001b[0m\u001b[1;36m2\u001b[0m\u001b[1;33m]\u001b[0m\u001b[1;33m[\u001b[0m\u001b[1;36m0\u001b[0m\u001b[1;33m]\u001b[0m\u001b[1;33m\u001b[0m\u001b[1;33m\u001b[0m\u001b[0m\n\u001b[0m",
      "\u001b[1;31mIndexError\u001b[0m: too many indices for array: array is 0-dimensional, but 1 were indexed"
     ]
    }
   ],
   "source": [
    "data['spikes'][0][1][2][0]"
   ]
  },
  {
   "cell_type": "markdown",
   "id": "763d3436-31c8-482f-8a4b-df6fca6f4c62",
   "metadata": {},
   "source": [
    "Uh oh, we've encountered a mysterious kind of array that is 0-dimensional. How is this possible? And what does it mean? Let's look up how to access data from it. A quick google search using the error `array is 0-dimensional, but 1 were indexed` led me to [this](https://stackoverflow.com/questions/9814226/error-extracting-element-from-an-array-python) page, where a friendly stranger mentions that:\n",
    "\n",
    "_a zero-dimensional array, and these cannot be indexed. You also don't need to index it -- you can use a directly as if it were a scalar value....\n",
    "If you need it in the base type of the array, you can use `a.item()` or `a[()]`._\n",
    "\n",
    "Let's try that. "
   ]
  },
  {
   "cell_type": "code",
   "execution_count": 27,
   "id": "fa458750-0528-4c35-b86c-2cc054328610",
   "metadata": {},
   "outputs": [
    {
     "data": {
      "text/plain": [
       "(array([[ 1315.7409    ,   235.74076814,   157.52148988, ...,\n",
       "             0.        ,    86.56976121,   202.        ],\n",
       "        [ 1315.7586    ,   235.74984689,   157.68905883, ...,\n",
       "             0.        ,    86.16683627,   203.        ],\n",
       "        [ 1315.7709    ,   235.74984689,   157.68905883, ...,\n",
       "             0.        ,   101.03786487,   203.        ],\n",
       "        ...,\n",
       "        [ 1871.6945    ,   132.99779665,   164.16651562, ...,\n",
       "             0.        ,    89.12128847, 16858.        ],\n",
       "        [ 1871.7263    ,   133.49112112,   163.69561382, ...,\n",
       "             0.        ,    80.02858794, 16859.        ],\n",
       "        [ 1880.434     ,   143.34175479,   168.40567626, ...,\n",
       "             0.        ,    92.74707011, 17120.        ]]),\n",
       " 'spike data',\n",
       " 'time x y dir not_used amplitude(highest variance channel) posindex',\n",
       " 59,\n",
       " 19.68587510118237,\n",
       " array([13090000, 19210000]))"
      ]
     },
     "execution_count": 27,
     "metadata": {},
     "output_type": "execute_result"
    }
   ],
   "source": [
    "data['spikes'][0][1][2].item()"
   ]
  },
  {
   "cell_type": "markdown",
   "id": "e40cd98e-3b0c-450c-9413-3f97dd36b387",
   "metadata": {},
   "source": [
    "Hey! Look at that, we have an array where:\n",
    "the first element is all the rows and columns of numbers\n",
    "The second element is the name of the field, which is 'spike data' in this case\n",
    "the third element is the names of all the columns\n",
    "the fourth element, as promised in the description is the depth of the tetrode in the brain\n",
    "the fifth element is the spike width\n",
    "the sixth element is the times of recording\n",
    "\n",
    "Let's try to access each of these elements"
   ]
  },
  {
   "cell_type": "code",
   "execution_count": 28,
   "id": "fc95dd2e-9d3e-4b91-9e28-1a82694530de",
   "metadata": {},
   "outputs": [],
   "source": [
    "unit_data = data['spikes'][0][1][2].item() # I'm using a variable unit_data to put this in to make it easier \n",
    "                                        # to index so we don't have a giant row of numbers in square brackets"
   ]
  },
  {
   "cell_type": "code",
   "execution_count": 34,
   "id": "7dff7aa8-f114-4911-b68c-3295e4811af6",
   "metadata": {},
   "outputs": [
    {
     "data": {
      "text/plain": [
       "(tuple, 6)"
      ]
     },
     "execution_count": 34,
     "metadata": {},
     "output_type": "execute_result"
    }
   ],
   "source": [
    "type(unit_data), len(unit_data)"
   ]
  },
  {
   "cell_type": "code",
   "execution_count": 29,
   "id": "0891ec2a-86c6-4108-84ac-79f6ee540dfc",
   "metadata": {},
   "outputs": [
    {
     "data": {
      "text/plain": [
       "array([[ 1315.7409    ,   235.74076814,   157.52148988, ...,\n",
       "            0.        ,    86.56976121,   202.        ],\n",
       "       [ 1315.7586    ,   235.74984689,   157.68905883, ...,\n",
       "            0.        ,    86.16683627,   203.        ],\n",
       "       [ 1315.7709    ,   235.74984689,   157.68905883, ...,\n",
       "            0.        ,   101.03786487,   203.        ],\n",
       "       ...,\n",
       "       [ 1871.6945    ,   132.99779665,   164.16651562, ...,\n",
       "            0.        ,    89.12128847, 16858.        ],\n",
       "       [ 1871.7263    ,   133.49112112,   163.69561382, ...,\n",
       "            0.        ,    80.02858794, 16859.        ],\n",
       "       [ 1880.434     ,   143.34175479,   168.40567626, ...,\n",
       "            0.        ,    92.74707011, 17120.        ]])"
      ]
     },
     "execution_count": 29,
     "metadata": {},
     "output_type": "execute_result"
    }
   ],
   "source": [
    "unit_data[0] #should give us the matrix of numbers"
   ]
  },
  {
   "cell_type": "code",
   "execution_count": 30,
   "id": "a47fa773-2285-4599-90c5-379f389ba83b",
   "metadata": {},
   "outputs": [
    {
     "data": {
      "text/plain": [
       "'spike data'"
      ]
     },
     "execution_count": 30,
     "metadata": {},
     "output_type": "execute_result"
    }
   ],
   "source": [
    "unit_data[1] # should give us the data description: spike data"
   ]
  },
  {
   "cell_type": "code",
   "execution_count": 31,
   "id": "9f693fc1-4301-498c-9523-d61a751c2a9b",
   "metadata": {},
   "outputs": [
    {
     "data": {
      "text/plain": [
       "'time x y dir not_used amplitude(highest variance channel) posindex'"
      ]
     },
     "execution_count": 31,
     "metadata": {},
     "output_type": "execute_result"
    }
   ],
   "source": [
    "unit_data[2] # should give us the column names"
   ]
  },
  {
   "cell_type": "code",
   "execution_count": 35,
   "id": "04f0bb06-4066-41fc-8ed8-bb77d4872cfb",
   "metadata": {},
   "outputs": [
    {
     "data": {
      "text/plain": [
       "59"
      ]
     },
     "execution_count": 35,
     "metadata": {},
     "output_type": "execute_result"
    }
   ],
   "source": [
    "unit_data[3]"
   ]
  },
  {
   "cell_type": "code",
   "execution_count": 36,
   "id": "ed8f60b4-bf29-4840-93a0-7c5b5ff95d20",
   "metadata": {},
   "outputs": [
    {
     "data": {
      "text/plain": [
       "19.68587510118237"
      ]
     },
     "execution_count": 36,
     "metadata": {},
     "output_type": "execute_result"
    }
   ],
   "source": [
    "unit_data[4]"
   ]
  },
  {
   "cell_type": "code",
   "execution_count": 37,
   "id": "33107376-1871-40d0-bfed-9f0b84340b3d",
   "metadata": {},
   "outputs": [
    {
     "data": {
      "text/plain": [
       "array([13090000, 19210000])"
      ]
     },
     "execution_count": 37,
     "metadata": {},
     "output_type": "execute_result"
    }
   ],
   "source": [
    "unit_data[5]"
   ]
  },
  {
   "cell_type": "markdown",
   "id": "4aa3e75e-b996-4b88-bea8-28cacf9ab6d9",
   "metadata": {},
   "source": [
    "**Let's explore how to access the same data from tetrodes that have more than one unit, like tetrode 7**"
   ]
  },
  {
   "cell_type": "code",
   "execution_count": 38,
   "id": "6e38be27-e512-40e8-bb85-66dc204e197e",
   "metadata": {},
   "outputs": [],
   "source": [
    "tt7 = data['spikes'][0][1][7]"
   ]
  },
  {
   "cell_type": "code",
   "execution_count": 44,
   "id": "78657f69-96b7-46d6-8df1-691c0e79f49d",
   "metadata": {},
   "outputs": [
    {
     "data": {
      "text/plain": [
       "'spike data'"
      ]
     },
     "execution_count": 44,
     "metadata": {},
     "output_type": "execute_result"
    }
   ],
   "source": [
    "tt7[0].item()[1] # gives us unit 0"
   ]
  },
  {
   "cell_type": "code",
   "execution_count": 40,
   "id": "abd04df8-56a0-45ba-b49c-89c963f0c018",
   "metadata": {},
   "outputs": [
    {
     "data": {
      "text/plain": [
       "(array([[1.30944940e+03, 2.14700002e+02, 1.53734634e+02, ...,\n",
       "         0.00000000e+00, 9.15875334e+01, 1.40000000e+01],\n",
       "        [1.30958680e+03, 2.14313722e+02, 1.54047105e+02, ...,\n",
       "         0.00000000e+00, 9.50214115e+01, 1.80000000e+01],\n",
       "        [1.30977950e+03, 2.13836000e+02, 1.54274635e+02, ...,\n",
       "         0.00000000e+00, 1.03922099e+02, 2.40000000e+01],\n",
       "        ...,\n",
       "        [1.87973310e+03, 1.37807415e+02, 1.75410286e+02, ...,\n",
       "         0.00000000e+00, 1.11613922e+02, 1.70990000e+04],\n",
       "        [1.87984010e+03, 1.38709917e+02, 1.75672123e+02, ...,\n",
       "         0.00000000e+00, 7.00386113e+01, 1.71020000e+04],\n",
       "        [1.88070200e+03, 1.46816326e+02, 1.66923801e+02, ...,\n",
       "         0.00000000e+00, 9.72451144e+01, 1.71280000e+04]]),\n",
       " 'spike data',\n",
       " 'time x y dir not_used amplitude(highest variance channel) posindex',\n",
       " 73,\n",
       " 14.592959741602996,\n",
       " array([13090000, 19210000]))"
      ]
     },
     "execution_count": 40,
     "metadata": {},
     "output_type": "execute_result"
    }
   ],
   "source": [
    "tt7[0].item() # gives us unit 0 in that amazing array form that we can easily index"
   ]
  },
  {
   "cell_type": "code",
   "execution_count": 45,
   "id": "d9624e42-4f20-4441-84f1-357719e536a8",
   "metadata": {},
   "outputs": [
    {
     "data": {
      "text/plain": [
       "(array([[ 1.31149370e+03,  2.12971499e+02,  1.54410473e+02, ...,\n",
       "          0.00000000e+00,  2.20009884e+01,  7.50000000e+01],\n",
       "        [ 1.31390850e+03,  2.30165255e+02,  1.47670736e+02, ...,\n",
       "          0.00000000e+00,  2.32934047e+01,  1.48000000e+02],\n",
       "        [ 1.32186240e+03,  2.57213322e+02,  1.79528019e+02, ...,\n",
       "          0.00000000e+00,  1.95946909e+01,  3.86000000e+02],\n",
       "        ...,\n",
       "        [ 1.88096690e+03,  1.51381274e+02,  1.68549626e+02, ...,\n",
       "          0.00000000e+00, -7.71429920e+00,  1.71360000e+04],\n",
       "        [ 1.88100030e+03,  1.52041292e+02,  1.68839672e+02, ...,\n",
       "          0.00000000e+00,  1.31690323e+01,  1.71370000e+04],\n",
       "        [ 1.88106490e+03,  1.52692267e+02,  1.69072732e+02, ...,\n",
       "          0.00000000e+00,  4.03500543e+01,  1.71380000e+04]]),\n",
       " 'spike data',\n",
       " 'time x y dir not_used amplitude(highest variance channel) posindex',\n",
       " 73,\n",
       " 16.069508799669276,\n",
       " array([13090000, 19210000]))"
      ]
     },
     "execution_count": 45,
     "metadata": {},
     "output_type": "execute_result"
    }
   ],
   "source": [
    "tt7[1].item() # gives us unit 1 from tt7"
   ]
  },
  {
   "cell_type": "code",
   "execution_count": 46,
   "id": "6ba6bf7e-76ac-42b0-adb0-714f945b0367",
   "metadata": {},
   "outputs": [
    {
     "data": {
      "text/plain": [
       "(array([[ 1.30914820e+03,  2.15434661e+02,  1.52514585e+02, ...,\n",
       "          0.00000000e+00,  2.03614747e+01,  5.00000000e+00],\n",
       "        [ 1.30924790e+03,  2.15105624e+02,  1.52657815e+02, ...,\n",
       "          0.00000000e+00,  2.80491492e+00,  8.00000000e+00],\n",
       "        [ 1.30931180e+03,  2.14980072e+02,  1.53055890e+02, ...,\n",
       "          0.00000000e+00, -8.02339287e+00,  1.00000000e+01],\n",
       "        ...,\n",
       "        [ 1.88054350e+03,  1.44563582e+02,  1.67530695e+02, ...,\n",
       "          0.00000000e+00, -4.92789074e+00,  1.71230000e+04],\n",
       "        [ 1.88085810e+03,  1.48907088e+02,  1.67381341e+02, ...,\n",
       "          0.00000000e+00,  5.09602532e+00,  1.71320000e+04],\n",
       "        [ 1.88100340e+03,  1.52041292e+02,  1.68839672e+02, ...,\n",
       "          0.00000000e+00,  1.44006662e+01,  1.71370000e+04]]),\n",
       " 'spike data',\n",
       " 'time x y dir not_used amplitude(highest variance channel) posindex',\n",
       " 73,\n",
       " 16.12842735934616,\n",
       " array([13090000, 19210000]))"
      ]
     },
     "execution_count": 46,
     "metadata": {},
     "output_type": "execute_result"
    }
   ],
   "source": [
    "tt7[2].item()"
   ]
  },
  {
   "cell_type": "code",
   "execution_count": null,
   "id": "017e7927-3a29-4006-8f73-25046781691c",
   "metadata": {},
   "outputs": [],
   "source": []
  }
 ],
 "metadata": {
  "kernelspec": {
   "display_name": "Python 3 (ipykernel)",
   "language": "python",
   "name": "python3"
  },
  "language_info": {
   "codemirror_mode": {
    "name": "ipython",
    "version": 3
   },
   "file_extension": ".py",
   "mimetype": "text/x-python",
   "name": "python",
   "nbconvert_exporter": "python",
   "pygments_lexer": "ipython3",
   "version": "3.9.7"
  }
 },
 "nbformat": 4,
 "nbformat_minor": 5
}
