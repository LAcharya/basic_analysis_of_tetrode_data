{
 "cells": [
  {
   "cell_type": "markdown",
   "id": "990bdaad-f829-4629-8ced-588a06f2a303",
   "metadata": {},
   "source": [
    "#### Uncompressing a tar.gz file\n",
    "\n",
    "From [geeksforgeeks](https://www.geeksforgeeks.org/how-to-uncompress-a-tar-gz-file-using-python/):\n",
    "\n",
    ".tar.gz files are made by the combination of TAR packaging followed by a GNU zip (gzip) compression. These files are commonly used in Unix/Linux based system as packages or installers. In order to read or extract these files, we have to first decompress these files and after that expand them with the TAR utilities as these files contain both .tar and .gz files.\n",
    "\n",
    "In order to extract or un-compress “.tar.gz” files using python, we have to use the tarfile module in python. This module can read and write .tar files including .gz, .bz compression methods.\n",
    "\n",
    "**Approach**\n",
    "Import module\n",
    "Open .tar.gz file\n",
    "Extract file in a specific folder\n",
    "Close file"
   ]
  },
  {
   "cell_type": "code",
   "execution_count": 7,
   "id": "4f62a786-3822-4388-ae86-36af44519ebd",
   "metadata": {},
   "outputs": [],
   "source": [
    "import tarfile # to uncompress file"
   ]
  },
  {
   "cell_type": "code",
   "execution_count": 4,
   "id": "82b0245e-0ec3-4dbc-a0d3-e050fe5365ca",
   "metadata": {},
   "outputs": [],
   "source": [
    "filepath = '../data.tar.gz' \n",
    "file = tarfile.open(filepath)"
   ]
  },
  {
   "cell_type": "code",
   "execution_count": 5,
   "id": "4e5bc63c-cff8-44c1-81b5-07eab75bd793",
   "metadata": {},
   "outputs": [],
   "source": [
    "file.extractall('../')"
   ]
  },
  {
   "cell_type": "code",
   "execution_count": 6,
   "id": "ca792fbb-d4c8-4824-a948-cb746923d86f",
   "metadata": {},
   "outputs": [],
   "source": [
    "file.close()"
   ]
  }
 ],
 "metadata": {
  "kernelspec": {
   "display_name": "Python 3 (ipykernel)",
   "language": "python",
   "name": "python3"
  },
  "language_info": {
   "codemirror_mode": {
    "name": "ipython",
    "version": 3
   },
   "file_extension": ".py",
   "mimetype": "text/x-python",
   "name": "python",
   "nbconvert_exporter": "python",
   "pygments_lexer": "ipython3",
   "version": "3.9.7"
  }
 },
 "nbformat": 4,
 "nbformat_minor": 5
}
