{
 "cells": [
  {
   "cell_type": "markdown",
   "id": "73bee923-3187-439f-9e2a-36ecddd9bbcf",
   "metadata": {},
   "source": [
    "# Import and explore file contents\n",
    "\n",
    "In this notebook, we're going to import the csv files we saved and take a look at the data in it."
   ]
  },
  {
   "cell_type": "code",
   "execution_count": 1,
   "id": "d9919d26-0771-4aee-aba0-2b11fc98cf77",
   "metadata": {},
   "outputs": [],
   "source": [
    "# First, let's import all the libraries we need\n",
    "\n",
    "import pandas as pd\n",
    "import numpy as np\n",
    "import matplotlib.pyplot as plt\n",
    "import seaborn as sns"
   ]
  },
  {
   "cell_type": "markdown",
   "id": "51901f15-6c5e-429e-ab85-f1cc84eba80d",
   "metadata": {},
   "source": [
    "We're going to perform an exploratory data analysis. This means we're going to take a look at a random file and see what is in it, what the data looks like and write up functions to analyse the data. We can import a csv file using the `read_csv` function in the pandas library. We just need to provide the file path to the file. My file is located at `'../clean_data/N2/day0_epoch3.csv'`. \n",
    "Just to reiterate, let's break the filepath down:  \n",
    "\n",
    "`../` means that the file is located one folder up from where the notebook is located. So `pd.read_csv` needs to go to the folder one level up from where ever the notebook is.   \n",
    "\n",
    "`clean_data/` is the name of the folder that has the required file  \n",
    "`N2` : once inside `clean_data`, `read_csv` needs to look in the folder `N2`  \n",
    "`day0_epoch3.csv` is the name of the file that the function needs to read. "
   ]
  },
  {
   "cell_type": "code",
   "execution_count": 124,
   "id": "e4d766e2-21f8-4195-9939-ad04c095836d",
   "metadata": {},
   "outputs": [],
   "source": [
    "data = pd.read_csv('../clean_data/N2/day0_epoch3.csv')"
   ]
  },
  {
   "cell_type": "markdown",
   "id": "0bdfab73-a749-4d26-a561-66e5051e03e9",
   "metadata": {},
   "source": [
    "pandas has a function that will tell you the data type for each column. `object` means it is a string "
   ]
  },
  {
   "cell_type": "code",
   "execution_count": 3,
   "id": "d889d127-801d-4562-879f-65bd837c7ea0",
   "metadata": {},
   "outputs": [
    {
     "data": {
      "text/html": [
       "<div>\n",
       "<style scoped>\n",
       "    .dataframe tbody tr th:only-of-type {\n",
       "        vertical-align: middle;\n",
       "    }\n",
       "\n",
       "    .dataframe tbody tr th {\n",
       "        vertical-align: top;\n",
       "    }\n",
       "\n",
       "    .dataframe thead th {\n",
       "        text-align: right;\n",
       "    }\n",
       "</style>\n",
       "<table border=\"1\" class=\"dataframe\">\n",
       "  <thead>\n",
       "    <tr style=\"text-align: right;\">\n",
       "      <th></th>\n",
       "      <th>cell_location</th>\n",
       "      <th>spike_times</th>\n",
       "      <th>xpos</th>\n",
       "      <th>ypos</th>\n",
       "    </tr>\n",
       "  </thead>\n",
       "  <tbody>\n",
       "    <tr>\n",
       "      <th>0</th>\n",
       "      <td>PFC</td>\n",
       "      <td>[3011.6695, 3011.9137, 3012.11, 3012.4227, 301...</td>\n",
       "      <td>[237.55768558074016, 243.7838691801326, 249.18...</td>\n",
       "      <td>[166.57632882040514, 173.06106273107466, 178.2...</td>\n",
       "    </tr>\n",
       "    <tr>\n",
       "      <th>1</th>\n",
       "      <td>PFC</td>\n",
       "      <td>[3006.3593, 3006.712, 3006.7858, 3006.9169, 30...</td>\n",
       "      <td>[223.32564592014648, 226.48356431805794, 226.1...</td>\n",
       "      <td>[154.76509281910785, 157.8789482916286, 158.16...</td>\n",
       "    </tr>\n",
       "    <tr>\n",
       "      <th>2</th>\n",
       "      <td>PFC</td>\n",
       "      <td>[3006.1441, 3006.9314, 3007.8643, 3008.1183, 3...</td>\n",
       "      <td>[218.47932379992605, 224.757945854419, 212.246...</td>\n",
       "      <td>[150.63115406297476, 158.41162769162048, 155.1...</td>\n",
       "    </tr>\n",
       "    <tr>\n",
       "      <th>3</th>\n",
       "      <td>PFC</td>\n",
       "      <td>[3006.2986, 3006.898, 3006.9649, 3009.4302, 30...</td>\n",
       "      <td>[221.81836915179014, 225.21271250715918, 224.1...</td>\n",
       "      <td>[153.78094414930473, 158.3921647311753, 158.42...</td>\n",
       "    </tr>\n",
       "    <tr>\n",
       "      <th>4</th>\n",
       "      <td>CA1</td>\n",
       "      <td>[3006.0604, 3006.0801, 3006.087, 3006.0975, 30...</td>\n",
       "      <td>[215.78493244876762, 216.6905288982968, 216.69...</td>\n",
       "      <td>[147.04387577375925, 148.342314912474, 148.342...</td>\n",
       "    </tr>\n",
       "  </tbody>\n",
       "</table>\n",
       "</div>"
      ],
      "text/plain": [
       "  cell_location                                        spike_times  \\\n",
       "0           PFC  [3011.6695, 3011.9137, 3012.11, 3012.4227, 301...   \n",
       "1           PFC  [3006.3593, 3006.712, 3006.7858, 3006.9169, 30...   \n",
       "2           PFC  [3006.1441, 3006.9314, 3007.8643, 3008.1183, 3...   \n",
       "3           PFC  [3006.2986, 3006.898, 3006.9649, 3009.4302, 30...   \n",
       "4           CA1  [3006.0604, 3006.0801, 3006.087, 3006.0975, 30...   \n",
       "\n",
       "                                                xpos  \\\n",
       "0  [237.55768558074016, 243.7838691801326, 249.18...   \n",
       "1  [223.32564592014648, 226.48356431805794, 226.1...   \n",
       "2  [218.47932379992605, 224.757945854419, 212.246...   \n",
       "3  [221.81836915179014, 225.21271250715918, 224.1...   \n",
       "4  [215.78493244876762, 216.6905288982968, 216.69...   \n",
       "\n",
       "                                                ypos  \n",
       "0  [166.57632882040514, 173.06106273107466, 178.2...  \n",
       "1  [154.76509281910785, 157.8789482916286, 158.16...  \n",
       "2  [150.63115406297476, 158.41162769162048, 155.1...  \n",
       "3  [153.78094414930473, 158.3921647311753, 158.42...  \n",
       "4  [147.04387577375925, 148.342314912474, 148.342...  "
      ]
     },
     "execution_count": 3,
     "metadata": {},
     "output_type": "execute_result"
    }
   ],
   "source": [
    "data"
   ]
  },
  {
   "cell_type": "code",
   "execution_count": 4,
   "id": "6c6e4d2f-ec04-4100-9d74-212971e49d15",
   "metadata": {},
   "outputs": [
    {
     "data": {
      "text/plain": [
       "cell_location    object\n",
       "spike_times      object\n",
       "xpos             object\n",
       "ypos             object\n",
       "dtype: object"
      ]
     },
     "execution_count": 4,
     "metadata": {},
     "output_type": "execute_result"
    }
   ],
   "source": [
    "data.dtypes"
   ]
  },
  {
   "cell_type": "markdown",
   "id": "6c4f8302-43c8-447e-ab85-b75f50ec96c8",
   "metadata": {},
   "source": [
    "Looks like all the columns are type `object` which means they all contain strings. We need them to be numbers. There are two ways to do this: \n",
    "1. we can go back to our previous notebook and edit our code so that all elements are converted to a numerical type (`int` or `float`) before saving to file, or\n",
    "2. we can work with what we have and learn how to clean data in pandas. \n",
    "\n",
    "Let's use the second method"
   ]
  },
  {
   "cell_type": "markdown",
   "id": "42b7854f-3a90-4980-b999-d79de451c946",
   "metadata": {},
   "source": [
    "**Examining each column of the dataframe one by one**\n",
    "To look at, or copy a single column of data from a dataframe, we use the syntax`dataframe_name['column_name']`. For instance:"
   ]
  },
  {
   "cell_type": "code",
   "execution_count": 5,
   "id": "4b838690-2129-41e0-969b-dbc03d87f692",
   "metadata": {},
   "outputs": [
    {
     "data": {
      "text/plain": [
       "0    PFC\n",
       "1    PFC\n",
       "2    PFC\n",
       "3    PFC\n",
       "4    CA1\n",
       "Name: cell_location, dtype: object"
      ]
     },
     "execution_count": 5,
     "metadata": {},
     "output_type": "execute_result"
    }
   ],
   "source": [
    "data['cell_location']"
   ]
  },
  {
   "cell_type": "markdown",
   "id": "4a2a14c4-b117-452f-9144-77a4fa12b456",
   "metadata": {},
   "source": [
    "the above line of code shows us the contents of the first column, 'cell_location'. We need this to be a string so we can leave this one alone. "
   ]
  },
  {
   "cell_type": "code",
   "execution_count": 6,
   "id": "42369919-79eb-4f10-b8f7-4f49d0e5857a",
   "metadata": {},
   "outputs": [
    {
     "data": {
      "text/plain": [
       "0    [3011.6695, 3011.9137, 3012.11, 3012.4227, 301...\n",
       "1    [3006.3593, 3006.712, 3006.7858, 3006.9169, 30...\n",
       "2    [3006.1441, 3006.9314, 3007.8643, 3008.1183, 3...\n",
       "3    [3006.2986, 3006.898, 3006.9649, 3009.4302, 30...\n",
       "4    [3006.0604, 3006.0801, 3006.087, 3006.0975, 30...\n",
       "Name: spike_times, dtype: object"
      ]
     },
     "execution_count": 6,
     "metadata": {},
     "output_type": "execute_result"
    }
   ],
   "source": [
    "data['spike_times']"
   ]
  },
  {
   "cell_type": "markdown",
   "id": "9d442ba2-de05-4510-8be7-de21757d9ef6",
   "metadata": {},
   "source": [
    "We need `spike_times` to be a numerical data type so we have to figure out how to convert it from a string to a list of numbers. Let's look at only one list:"
   ]
  },
  {
   "cell_type": "code",
   "execution_count": 7,
   "id": "387f1a92-2cc8-4973-b1b9-802565cdcf83",
   "metadata": {},
   "outputs": [
    {
     "data": {
      "text/plain": [
       "'[3011.6695, 3011.9137, 3012.11, 3012.4227, 3012.4815, 3012.5556, 3012.6114, 3012.6574, 3012.7149, 3012.7869, 3012.8586, 3013.7223, 3015.7127, 3015.8751, 3016.0387, 3017.3065, 3022.995, 3023.0194, 3023.0691, 3023.1677, 3023.2626, 3023.2888, 3023.3122, 3024.7608, 3025.0489, 3025.7827, 3028.0873, 3028.4404, 3028.8517, 3032.8205, 3038.6593, 3051.5677, 3051.945, 3054.2144, 3054.4975, 3054.5671, 3054.8152, 3054.8461, 3054.9975, 3055.0987, 3055.1452, 3055.202, 3055.2183, 3055.2894, 3057.8403, 3057.9566, 3058.0177, 3058.0543, 3058.0761, 3058.137, 3058.1957, 3058.2025, 3058.2322, 3058.2705, 3058.2924, 3058.3104, 3058.3843, 3058.4376, 3058.5656, 3058.762, 3059.0377, 3059.1871, 3059.3007, 3059.6266, 3059.755, 3059.8254, 3060.3004, 3060.7015, 3060.9524, 3061.2969, 3061.3869, 3061.4708, 3061.6899, 3061.908, 3062.0216, 3062.0699, 3062.436, 3062.5003, 3062.7129, 3062.7859, 3062.9709, 3063.0462, 3064.2422, 3064.3374, 3064.4474, 3064.7843, 3064.8726, 3064.9813, 3075.799, 3075.8377, 3075.8439, 3075.8669, 3075.8967, 3075.9091, 3075.9187, 3075.9364, 3075.9861, 3075.9934, 3076.0909, 3076.2523, 3076.7009, 3077.5912, 3077.8027, 3079.2642, 3079.365, 3079.5271, 3079.6333, 3079.727, 3079.7636, 3079.8263, 3079.8445, 3079.8975, 3079.9331, 3080.0197, 3080.0992, 3080.1668, 3080.3304, 3081.0017, 3091.3521, 3098.8536, 3105.7132, 3106.2221, 3106.2547, 3106.4599, 3106.5132, 3106.5869, 3106.6401, 3106.8054, 3106.8439, 3106.947, 3106.9648, 3107.1082, 3107.2535, 3108.49, 3111.5449, 3117.5831, 3117.9504, 3117.992, 3118.0252, 3118.0723, 3118.0893, 3118.1168, 3118.2135, 3118.676, 3118.7679, 3118.8098, 3118.8567, 3118.9015, 3119.4071, 3119.4797, 3119.5604, 3119.8285, 3120.7157, 3120.8778, 3121.7085, 3122.0574, 3122.2958, 3123.231, 3123.6642, 3124.0509, 3124.6114, 3124.7172, 3124.8175, 3124.8287, 3124.9344, 3125.3071, 3126.4315, 3126.9931, 3127.0747, 3127.1373, 3127.2444, 3127.2675, 3127.2861, 3127.3245, 3127.3992, 3127.4252, 3127.4589, 3127.5001, 3127.6716, 3127.7036, 3127.739, 3127.7677, 3129.213, 3129.2997, 3129.3192, 3129.4294, 3129.5165, 3129.6305, 3129.7291, 3129.7665, 3129.8003, 3129.8523, 3130.012, 3132.7516, 3136.644, 3136.7044, 3136.738, 3136.7666, 3136.7945, 3136.8163, 3136.8946, 3137.0594, 3137.087, 3137.1173, 3137.1837, 3137.2116, 3137.2257, 3137.2385, 3137.2636, 3137.3053, 3137.3435, 3137.4436, 3137.5075, 3137.5575, 3137.5988, 3137.8678, 3137.9423, 3138.0201, 3138.0814, 3138.228, 3138.2705, 3138.2965, 3138.3068, 3138.3255, 3138.3378, 3138.3532, 3138.3652, 3138.3753, 3138.4119, 3138.4344, 3138.4649, 3138.5846, 3138.6081, 3139.1636, 3139.2644, 3139.3483, 3139.4132, 3139.4953, 3141.2796, 3142.9456, 3143.5627, 3143.7544, 3147.9517, 3151.2819, 3151.3952, 3151.4123, 3151.6975, 3151.7521, 3151.8058, 3153.0973, 3153.5059, 3155.6474, 3156.4275, 3156.7652, 3157.237, 3158.1972, 3158.2311, 3158.249, 3158.425, 3158.4952, 3161.4908, 3161.5018, 3161.5383, 3161.5772, 3161.6095, 3161.6474, 3161.6734, 3161.6981, 3161.7507, 3173.0443, 3173.2426, 3173.2509, 3173.2963, 3173.3765, 3173.4469, 3174.496, 3174.7653, 3174.805, 3174.8449, 3174.9252, 3174.9768, 3175.0443, 3175.2473, 3175.5498, 3175.6654, 3175.7182, 3176.1145, 3176.2902, 3176.4433, 3176.4726, 3176.5664, 3176.608, 3176.6488, 3176.6897, 3177.1136, 3177.1891, 3177.283, 3177.3852, 3177.4439, 3178.2062, 3179.9727, 3180.053, 3180.1249, 3180.2227, 3180.2917, 3180.4725, 3180.5367, 3180.5844, 3180.8022, 3180.8613, 3180.9692, 3181.064, 3181.3846, 3181.4685, 3182.4578, 3182.671, 3183.0689, 3183.3994, 3183.6996, 3185.0025, 3188.0502, 3188.5062, 3188.7004, 3194.9975, 3204.6548, 3210.4687, 3221.7084, 3224.5643, 3229.5321, 3236.5038, 3247.4848, 3265.9497, 3266.07, 3266.1175, 3266.1491, 3266.188, 3266.1979, 3266.2241, 3266.2334, 3266.2467, 3266.2622, 3266.2755, 3266.2865, 3266.302, 3266.3427, 3266.3719, 3266.4414, 3266.4631, 3266.4963, 3266.5201, 3266.5381, 3266.6032, 3266.6566, 3266.7676, 3267.235, 3267.4741, 3267.6514, 3267.6668, 3268.2151, 3268.3789, 3268.5515, 3268.586, 3268.6937, 3268.7731, 3269.1497, 3269.4327, 3269.4591, 3269.5082, 3269.5258, 3269.5557, 3269.5869, 3269.7254, 3269.759, 3269.8762, 3269.992, 3270.0617, 3270.0887, 3270.1844, 3270.342, 3270.7036, 3270.7301, 3270.7619, 3270.7998, 3271.1165, 3271.1771, 3271.1991, 3271.975, 3272.3125, 3272.3451, 3272.4675, 3273.0976, 3273.3183, 3273.7081, 3273.7929, 3273.9283, 3274.1045, 3274.2555, 3274.5023, 3274.6957, 3274.8288, 3275.0642, 3275.3033, 3275.427, 3275.6292, 3275.8845, 3276.0136, 3276.0653, 3276.2408, 3276.4153, 3277.9376, 3278.7573, 3286.2286, 3287.219, 3292.0217, 3292.0719, 3292.1792, 3292.2114, 3292.2731, 3292.2845, 3292.3842, 3292.4964, 3297.6523, 3297.6699, 3297.7466, 3297.7792, 3297.8507, 3297.9679, 3297.9936, 3298.6543, 3298.9607, 3299.0375, 3299.0816, 3299.1007, 3299.1541, 3299.1936, 3299.2427, 3299.3085, 3299.344, 3299.4126, 3299.4598, 3302.7002, 3302.7825, 3302.8703, 3302.9137, 3302.9498, 3303.0185, 3303.0798, 3303.1516, 3303.2104, 3303.2283, 3303.2466, 3303.3038, 3303.3359, 3303.362, 3303.3942, 3303.5906, 3303.6953, 3303.8016, 3305.3571, 3306.1542, 3306.2657, 3311.0566, 3311.1001, 3311.1736, 3311.2983, 3311.3985, 3311.8822, 3311.9395, 3312.3551, 3312.4037, 3312.8146, 3312.8747, 3312.9056, 3313.0047, 3313.4471, 3313.4704, 3313.5706, 3313.6507, 3313.6721, 3313.7067, 3313.7409, 3313.7507, 3313.7653, 3313.7835, 3313.799, 3313.8214, 3313.836, 3315.1822, 3315.3281, 3315.5728, 3316.3018, 3316.452, 3317.6947, 3325.637, 3325.7061, 3325.804, 3325.8546, 3325.918, 3326.1015, 3326.1641, 3326.2589, 3326.4551, 3326.4637, 3326.502, 3326.5159, 3326.5252, 3326.5505, 3326.5644, 3326.5802, 3326.6172, 3326.6318, 3326.6778, 3326.7078, 3326.7746, 3326.8797, 3326.9024, 3329.3524, 3329.409, 3329.4607, 3329.5039, 3329.7666, 3329.8255, 3331.0451, 3331.0854, 3331.1456, 3331.1544, 3331.397, 3331.4325, 3331.8196, 3331.8733, 3331.9363, 3332.3514, 3334.4393, 3334.8391, 3334.9445, 3337.1463, 3337.192, 3337.2284, 3337.2561, 3337.3117, 3337.3402, 3337.4392, 3337.4663, 3337.5717, 3337.6056, 3338.2763, 3339.1718, 3339.4104, 3339.6469, 3339.9619, 3340.0217, 3340.3373, 3340.4363, 3340.569, 3340.6067, 3341.0491, 3341.3243, 3341.7453, 3342.0018, 3342.0707, 3342.6775, 3342.7887, 3343.0973, 3343.2149, 3343.2451, 3343.5048, 3345.632, 3346.0082, 3347.6846, 3356.7967, 3356.8239, 3356.8978, 3357.2993, 3357.4854, 3357.5145, 3357.5428, 3357.5513, 3357.556, 3357.5667, 3357.5846, 3357.5992, 3357.6131, 3357.6522, 3357.665, 3357.8243, 3363.6747, 3366.3901, 3380.7371, 3380.755, 3380.7728, 3380.822, 3380.8343, 3380.8471, 3380.8571, 3380.8704, 3380.8793, 3380.8979, 3381.811, 3381.8304, 3381.904, 3381.9619, 3382.0131, 3382.2138, 3382.4458, 3383.181, 3384.4186, 3384.4293, 3384.7938, 3385.6096, 3385.6987, 3386.5631, 3386.732, 3386.9624, 3390.3331, 3390.5083, 3390.5881, 3390.7536, 3390.8063, 3391.5913, 3392.0115, 3392.0949, 3395.8836, 3400.5993, 3401.3975, 3403.1958, 3403.3634, 3403.426, 3403.461, 3403.4873, 3404.5213, 3405.5453, 3405.9398, 3406.0227, 3406.1943, 3406.57, 3406.6148, 3406.7001, 3406.7523, 3407.1034, 3409.1997, 3409.9358, 3409.9804, 3410.0172, 3410.0384, 3410.0753, 3410.1293, 3410.2098, 3410.2187, 3410.2378, 3410.248, 3410.2814, 3410.2906, 3410.6389, 3410.7232, 3410.7691, 3410.8056, 3410.8699, 3410.9106, 3410.971, 3410.9959, 3411.0351, 3411.0563, 3416.6514, 3436.3075, 3441.3599, 3444.1392, 3446.529, 3450.8665, 3453.9306, 3456.7939, 3456.8499, 3464.6145, 3465.4137, 3467.0657, 3467.1323, 3467.1784, 3467.5472, 3467.564, 3468.2574, 3468.7757, 3468.8778, 3469.156, 3469.2407, 3469.2806, 3469.3185, 3469.4442, 3469.6555, 3469.6862, 3469.7207, 3469.7263, 3469.7417, 3469.7915, 3469.8197, 3469.8527, 3469.908, 3469.9792, 3470.0509, 3470.0756, 3470.1055, 3470.137, 3470.171, 3470.2658, 3470.4747, 3470.5932, 3470.6562, 3470.7012, 3470.7121, 3470.7417, 3470.7906, 3470.856, 3470.9328, 3470.9836, 3471.012, 3471.083, 3471.2014, 3471.4526, 3471.6125, 3471.8479, 3472.0672, 3472.2665, 3472.3188, 3472.36, 3472.5101, 3472.5513, 3472.9838, 3473.2873, 3473.561, 3473.6426, 3475.0764, 3475.2353, 3475.4077, 3475.4875, 3475.56, 3475.634, 3475.7136, 3475.7765, 3475.8503, 3475.9074, 3477.3372, 3481.0329, 3483.3324, 3483.3769, 3483.4207, 3483.471, 3483.4869, 3483.508, 3483.5557, 3483.6586, 3483.682, 3483.7523, 3483.7965, 3483.813, 3483.8646, 3483.8974, 3483.9484, 3483.9784, 3483.9888, 3484.0166, 3484.0572, 3487.0537, 3487.0657, 3487.1249, 3487.1897, 3487.2768, 3491.7305, 3496.5434, 3504.5676, 3504.6708, 3505.1581, 3505.1746, 3505.717, 3505.79, 3505.8787, 3507.0313, 3512.0127, 3512.0443, 3512.0556, 3512.0637, 3512.0806, 3512.0903, 3512.1073, 3512.1309, 3512.1414, 3512.1491, 3512.168, 3512.2081, 3512.2214, 3512.2406, 3512.2683, 3512.3014, 3512.3707, 3512.4106, 3512.4212, 3512.7229, 3517.5833, 3518.8854, 3519.043, 3522.9398, 3540.6921, 3559.6437, 3560.5214, 3562.765, 3562.821, 3562.8878, 3562.9418, 3562.9574, 3562.9979, 3563.01, 3563.0286, 3563.0337, 3563.0471, 3563.0534, 3563.0593, 3563.0701, 3563.0802, 3563.0912, 3563.1179, 3563.1358, 3563.1692, 3563.2152, 3563.2758, 3563.3726, 3563.4175, 3563.4493, 3563.4753, 3563.4917, 3563.5029, 3563.5179, 3563.5401, 3563.5639, 3563.5768, 3563.5895, 3563.6044, 3563.6225, 3563.6535, 3563.721, 3563.73, 3563.7553, 3563.8358, 3563.864, 3563.8746, 3563.9517, 3563.9679, 3564.0017, 3564.0653, 3564.09, 3564.2111, 3564.3257, 3564.9061, 3565.0302, 3565.0707, 3567.757, 3568.2101, 3568.2431, 3573.0718, 3587.4789, 3588.9215, 3591.6742, 3591.6971, 3591.8348, 3592.13, 3592.2368, 3593.2796, 3595.4722, 3596.135, 3611.486, 3611.692, 3611.8799, 3612.1293, 3612.1432, 3612.1649, 3612.1874, 3612.2357, 3612.5163, 3612.855, 3612.8712, 3613.4671]'"
      ]
     },
     "execution_count": 7,
     "metadata": {},
     "output_type": "execute_result"
    }
   ],
   "source": [
    "data['spike_times'][0]"
   ]
  },
  {
   "cell_type": "markdown",
   "id": "8449ac23-ff2d-4b2e-9e02-600d6527c776",
   "metadata": {},
   "source": [
    "This shows us a long string with the structure `[number number number number number number]`. Note that the `''` are outside the `[]` which means that it is not a list even though it has `[]`. the brackets are part of the string. "
   ]
  },
  {
   "cell_type": "markdown",
   "id": "33f74f37-d9ea-42b9-9189-acec8f094f4d",
   "metadata": {},
   "source": [
    "**Converting a string into a list**\n",
    "You can use the `.split()` function to split a string into a list of strings. The default is to split on the spaces, if you want to split on commas or new lines you would put that in as a parameter. For instance, "
   ]
  },
  {
   "cell_type": "code",
   "execution_count": 9,
   "id": "625d0029-fa3a-4c49-8d2e-46e308347046",
   "metadata": {},
   "outputs": [
    {
     "data": {
      "text/plain": [
       "['This', 'is', 'a', 'string']"
      ]
     },
     "execution_count": 9,
     "metadata": {},
     "output_type": "execute_result"
    }
   ],
   "source": [
    "# split on the spaces\n",
    "string = 'This is a string'\n",
    "string.split()"
   ]
  },
  {
   "cell_type": "code",
   "execution_count": 10,
   "id": "e8fa7c22-753a-49fa-85d9-f8ca59a7e74e",
   "metadata": {},
   "outputs": [
    {
     "data": {
      "text/plain": [
       "['a', 'ab', 'abc', 'abcd']"
      ]
     },
     "execution_count": 10,
     "metadata": {},
     "output_type": "execute_result"
    }
   ],
   "source": [
    "# split on a different delimiter, such as a comma\n",
    "string = 'a,ab,abc,abcd'\n",
    "string.split(',')"
   ]
  },
  {
   "cell_type": "code",
   "execution_count": 11,
   "id": "84a9b88c-45d3-47ed-92e8-396769f5c09f",
   "metadata": {},
   "outputs": [
    {
     "name": "stdout",
     "output_type": "stream",
     "text": [
      "This is a string:\n",
      " a, ab, abc, abcd\n"
     ]
    }
   ],
   "source": [
    "# split on a new line\n",
    "string = 'This is a string:\\n a, ab, abc, abcd'\n",
    "print(string)"
   ]
  },
  {
   "cell_type": "code",
   "execution_count": 12,
   "id": "7313b879-7fb5-4f17-a5ee-e34f5d055a7d",
   "metadata": {},
   "outputs": [
    {
     "data": {
      "text/plain": [
       "['This is a string:', ' a, ab, abc, abcd']"
      ]
     },
     "execution_count": 12,
     "metadata": {},
     "output_type": "execute_result"
    }
   ],
   "source": [
    "string.split('\\n')"
   ]
  },
  {
   "cell_type": "markdown",
   "id": "6b446a0c-d9cd-4d7d-86f5-4b72e7e37206",
   "metadata": {},
   "source": [
    "**Removing unwanted characters from the string**\n",
    "There are different ways remove specific characters from strings. One of them is the string method `replace()`. If you replace with `''` the function just removes the character from the string. "
   ]
  },
  {
   "cell_type": "code",
   "execution_count": 13,
   "id": "735884e4-4b6e-4ee4-b2ef-2b119b03ac21",
   "metadata": {},
   "outputs": [
    {
     "data": {
      "text/plain": [
       "'eiou'"
      ]
     },
     "execution_count": 13,
     "metadata": {},
     "output_type": "execute_result"
    }
   ],
   "source": [
    "# for instance\n",
    "string = 'aeiou'\n",
    "string.replace('a','')"
   ]
  },
  {
   "cell_type": "code",
   "execution_count": 14,
   "id": "663373c3-12b6-4851-a360-401cdfcae810",
   "metadata": {},
   "outputs": [
    {
     "data": {
      "text/plain": [
       "'[3011.6695 3011.9137 3012.11   3012.4227 3012.4815 3012.5556 3012.6114\\n 3012.6574 3012.7149 3012.7869 3012.8586 3013.7223 3015.7127 3015.8751\\n]'"
      ]
     },
     "execution_count": 14,
     "metadata": {},
     "output_type": "execute_result"
    }
   ],
   "source": [
    "# Let's experiment with a snippet of the string from spike_times\n",
    "string = '[3011.6695 3011.9137 3012.11   3012.4227 3012.4815 3012.5556 3012.6114\\n 3012.6574 3012.7149 3012.7869 3012.8586 3013.7223 3015.7127 3015.8751\\n]'\n",
    "string"
   ]
  },
  {
   "cell_type": "code",
   "execution_count": 15,
   "id": "1a8bf33b-11c3-4288-9e12-5dc27d0de59d",
   "metadata": {},
   "outputs": [
    {
     "data": {
      "text/plain": [
       "'3011.6695 3011.9137 3012.11   3012.4227 3012.4815 3012.5556 3012.6114\\n 3012.6574 3012.7149 3012.7869 3012.8586 3013.7223 3015.7127 3015.8751\\n]'"
      ]
     },
     "execution_count": 15,
     "metadata": {},
     "output_type": "execute_result"
    }
   ],
   "source": [
    "# remove the []\n",
    "string = string.replace('[','')\n",
    "string"
   ]
  },
  {
   "cell_type": "code",
   "execution_count": 16,
   "id": "3e5309f7-df81-44fe-8716-5b6eba60318b",
   "metadata": {},
   "outputs": [
    {
     "data": {
      "text/plain": [
       "'3011.6695 3011.9137 3012.11   3012.4227 3012.4815 3012.5556 3012.6114\\n 3012.6574 3012.7149 3012.7869 3012.8586 3013.7223 3015.7127 3015.8751\\n'"
      ]
     },
     "execution_count": 16,
     "metadata": {},
     "output_type": "execute_result"
    }
   ],
   "source": [
    "string = string.replace(']','')\n",
    "string"
   ]
  },
  {
   "cell_type": "code",
   "execution_count": 17,
   "id": "9af44202-9ccc-43ae-9406-48c109ded11c",
   "metadata": {},
   "outputs": [
    {
     "data": {
      "text/plain": [
       "'3011.6695 3011.9137 3012.11   3012.4227 3012.4815 3012.5556 3012.6114 3012.6574 3012.7149 3012.7869 3012.8586 3013.7223 3015.7127 3015.8751'"
      ]
     },
     "execution_count": 17,
     "metadata": {},
     "output_type": "execute_result"
    }
   ],
   "source": [
    "# remove the line breaks\n",
    "string = string.replace('\\n','')\n",
    "string"
   ]
  },
  {
   "cell_type": "code",
   "execution_count": 18,
   "id": "34f81d44-ea1a-4fd3-b9b7-58f3e60244b2",
   "metadata": {},
   "outputs": [
    {
     "data": {
      "text/plain": [
       "['3011.6695',\n",
       " '3011.9137',\n",
       " '3012.11',\n",
       " '3012.4227',\n",
       " '3012.4815',\n",
       " '3012.5556',\n",
       " '3012.6114',\n",
       " '3012.6574',\n",
       " '3012.7149',\n",
       " '3012.7869',\n",
       " '3012.8586',\n",
       " '3013.7223',\n",
       " '3015.7127',\n",
       " '3015.8751']"
      ]
     },
     "execution_count": 18,
     "metadata": {},
     "output_type": "execute_result"
    }
   ],
   "source": [
    "# convert the string into a list\n",
    "string_list = string.split()\n",
    "string_list"
   ]
  },
  {
   "cell_type": "code",
   "execution_count": 19,
   "id": "85c4dca0-31f5-43db-a75d-b540e82893d6",
   "metadata": {},
   "outputs": [
    {
     "data": {
      "text/plain": [
       "[3011.6695,\n",
       " 3011.9137,\n",
       " 3012.11,\n",
       " 3012.4227,\n",
       " 3012.4815,\n",
       " 3012.5556,\n",
       " 3012.6114,\n",
       " 3012.6574,\n",
       " 3012.7149,\n",
       " 3012.7869,\n",
       " 3012.8586,\n",
       " 3013.7223,\n",
       " 3015.7127,\n",
       " 3015.8751]"
      ]
     },
     "execution_count": 19,
     "metadata": {},
     "output_type": "execute_result"
    }
   ],
   "source": [
    "# use a list comprehension to convert each element of the list into a float\n",
    "# to write a list comprehension when you aren't used to working with them,\n",
    "# first write out a for loop:\n",
    "\n",
    "num_list = []                  # initialize an empty list to put the numbers in\n",
    "for element in string_list:    # cycle through each element of string_list\n",
    "    num_list.append(float(element))  # convert the element to float and append to num_list\n",
    "num_list\n",
    "    "
   ]
  },
  {
   "cell_type": "code",
   "execution_count": 20,
   "id": "23929a1e-dcba-4f4d-8c86-175177d1927b",
   "metadata": {},
   "outputs": [
    {
     "data": {
      "text/plain": [
       "[3011.6695,\n",
       " 3011.9137,\n",
       " 3012.11,\n",
       " 3012.4227,\n",
       " 3012.4815,\n",
       " 3012.5556,\n",
       " 3012.6114,\n",
       " 3012.6574,\n",
       " 3012.7149,\n",
       " 3012.7869,\n",
       " 3012.8586,\n",
       " 3013.7223,\n",
       " 3015.7127,\n",
       " 3015.8751]"
      ]
     },
     "execution_count": 20,
     "metadata": {},
     "output_type": "execute_result"
    }
   ],
   "source": [
    "# now let's turn that into a list comprehension: \n",
    "num_list = [float(element) for element in string_list]\n",
    "num_list"
   ]
  },
  {
   "cell_type": "markdown",
   "id": "3fd5c5b9-612a-4046-a624-c387abb83b3a",
   "metadata": {},
   "source": [
    "**Functions: create a function that removes `[`, `]`, and any other non-numerical characters from the input string**"
   ]
  },
  {
   "cell_type": "code",
   "execution_count": 21,
   "id": "e6a45d2b-5586-4f3a-8106-c90a20017aff",
   "metadata": {},
   "outputs": [],
   "source": [
    "def remove_nonnumericals(string):\n",
    "    # string is the string from which non-numerical characters need to be removed\n",
    "    \n",
    "    string_list = string.split()  # convert single string into a list.\n",
    "    \n",
    "    # see ** below for explanation of nested list comprehension\n",
    "    numeric_list = [''.join([char for char in element if (char.isdigit() or char=='.')]) for element in string_list]\n",
    "    \n",
    "    # see *** below for explanation\n",
    "    return [float(element) for element in list(filter(None, numeric_list))]"
   ]
  },
  {
   "cell_type": "markdown",
   "id": "8c5293cb-5a1a-44db-a060-26ff90174642",
   "metadata": {},
   "source": [
    "let's slowly walk through the above function with an example:\n",
    "let's say this is the string that we want to remove all non-numeric characters from:"
   ]
  },
  {
   "cell_type": "code",
   "execution_count": 22,
   "id": "9a31cd9a-6dd4-4859-99b5-e29dd79064f9",
   "metadata": {},
   "outputs": [
    {
     "data": {
      "text/plain": [
       "'3015.7127bc 3015.8751\\n] pq'"
      ]
     },
     "execution_count": 22,
     "metadata": {},
     "output_type": "execute_result"
    }
   ],
   "source": [
    "string = '3015.7127bc 3015.8751\\n] pq'\n",
    "string"
   ]
  },
  {
   "cell_type": "code",
   "execution_count": 23,
   "id": "0c447f7e-b41a-4d49-b502-f9c5c17765c1",
   "metadata": {},
   "outputs": [
    {
     "data": {
      "text/plain": [
       "['3015.7127bc', '3015.8751', ']', 'pq']"
      ]
     },
     "execution_count": 23,
     "metadata": {},
     "output_type": "execute_result"
    }
   ],
   "source": [
    "# the first step is to convert this into a list of smaller strings:\n",
    "string_list = string.split()\n",
    "string_list"
   ]
  },
  {
   "cell_type": "markdown",
   "id": "8aa9a3ab-d6b4-41ba-9651-7747e8afdabc",
   "metadata": {},
   "source": [
    "string list has the structure: `[element, element, element]` where each element is a string that is made up of characters. Our goal is to remove any character that is not a number so in the example, we want to keep `'3015.7127'` but remove `'bc'`\n",
    "\n",
    "We also want to completely remove `']'` and `'pq'`, but we want to keep the decimal points `'.'` in all the numbers. \n",
    "\n",
    "\n",
    "To do this, the next step in the function above uses a nested list comprehension:  \n",
    "```\n",
    "numeric_list = [''.join([char for char in element if (char.isdigit() or char=='.')]) for element in string_list]\n",
    "```\n",
    "This is a list comprehension inside a list comprehension, which is the same as a for loop inside a for loop. We use a new string method, `.join()` in the process: \n",
    "\n",
    "`.join()` can be used when you have a list of strings that you want to join into a single string. For instance: "
   ]
  },
  {
   "cell_type": "code",
   "execution_count": 24,
   "id": "797395cf-6012-4a16-a5f1-eab9d0817ded",
   "metadata": {},
   "outputs": [
    {
     "name": "stdout",
     "output_type": "stream",
     "text": [
      "cat\n"
     ]
    }
   ],
   "source": [
    "example_list = ['c', 'a', 't']\n",
    "# I want to join the individual characters into a single word so I use .join()\n",
    "# the '' before .join contain the character I want to use to join them together. \n",
    "# I want to use nothing, so I leave it empty\n",
    "print(''.join(example_list)  )"
   ]
  },
  {
   "cell_type": "code",
   "execution_count": 25,
   "id": "e26325cc-b230-45e8-bc4d-47aed8b8a630",
   "metadata": {},
   "outputs": [
    {
     "name": "stdout",
     "output_type": "stream",
     "text": [
      "dogs like pets\n"
     ]
    }
   ],
   "source": [
    "example_list = ['dogs', 'like', 'pets'] \n",
    "# now I want to join this with spaces inbetween so I say:\n",
    "print(' '.join(example_list))"
   ]
  },
  {
   "cell_type": "code",
   "execution_count": 26,
   "id": "55223b8b-6562-4e18-a5ef-c631a409f778",
   "metadata": {},
   "outputs": [
    {
     "name": "stdout",
     "output_type": "stream",
     "text": [
      "Tiger, tiger burning bright\n",
      "In the forests of the night\n"
     ]
    }
   ],
   "source": [
    "example_list = ['Tiger, tiger burning bright', 'In the forests of the night']\n",
    "# I want to join this with a line break so I say this:\n",
    "print('\\n'.join(example_list))"
   ]
  },
  {
   "cell_type": "code",
   "execution_count": 27,
   "id": "d2de38de-a9c1-4307-ae75-c600a67096eb",
   "metadata": {},
   "outputs": [],
   "source": [
    "# coming back to our example, this is how the nested list comprehension works\n",
    "\n",
    "numeric_list = []                           # first we create an empty list to put all our clean numbers in\n",
    "for element in string_list:                 # cycle through each element\n",
    "    element_list = []                       # initialize an empty list to put that element in\n",
    "    for char in element:                    # cycle through each character in the element\n",
    "        if (char.isdigit() or char=='.'):   # check if the character is a number between 0-9 or a deciman point '.'\n",
    "            element_list.append(char)\n",
    "\n",
    "    final_string = ''.join(element_list)    # use the string method .join() to join the list of characters into a single string\n",
    "    numeric_list.append(final_string)       # append that final string to the numeric_list"
   ]
  },
  {
   "cell_type": "code",
   "execution_count": 28,
   "id": "a01f0e78-8ef8-4521-9754-0a1878722147",
   "metadata": {},
   "outputs": [
    {
     "data": {
      "text/plain": [
       "['3015.7127', '3015.8751', '', '']"
      ]
     },
     "execution_count": 28,
     "metadata": {},
     "output_type": "execute_result"
    }
   ],
   "source": [
    "numeric_list                               # numeric list now has all the numbers only\n",
    "                                           # but it also has empty strings where there were strings with no numbers\n",
    "                                           # like ']' and 'pq'"
   ]
  },
  {
   "cell_type": "code",
   "execution_count": 29,
   "id": "7c387182-27b8-408c-ade1-ebd946a0428b",
   "metadata": {},
   "outputs": [
    {
     "data": {
      "text/plain": [
       "[3015.7127, 3015.8751]"
      ]
     },
     "execution_count": 29,
     "metadata": {},
     "output_type": "execute_result"
    }
   ],
   "source": [
    "# ***: removing empty strings\n",
    "# you can use the filter() function to filter a list to remove any empty strings.\n",
    "# filter takes in a filter function, which can be whatever you want, and a list that needs \n",
    "# to be filtered. In our case the filter function can just be 'None' because all we want to \n",
    "# do is remove any empty strings. The output of filter() needs to be comverted into a list \n",
    "# again, so this is how we will type it out:\n",
    "\n",
    "cleaned_list = list(filter(None, numeric_list))\n",
    "\n",
    "# now we have a cleaned list, we can convert each element into a float which is\n",
    "# happening in the second list comprehension\n",
    "\n",
    "float_list = []\n",
    "for element in cleaned_list:\n",
    "    float_list.append(float(element))\n",
    "    \n",
    "float_list"
   ]
  },
  {
   "cell_type": "markdown",
   "id": "d40a185c-675b-49d3-bd8d-53169767dccf",
   "metadata": {},
   "source": [
    "**Cleaning out every string in the dataframe row by row**\n",
    "When you want to repeat the same function for every element of a dataframe, you can use `.applymap()`. Let's try using `.applymap()` to run the `remove_nonnumericals` function we wrote earlier on every row of only the `spike_times` column. "
   ]
  },
  {
   "cell_type": "code",
   "execution_count": 174,
   "id": "3df99b40-7232-4a63-b194-3a1ede1f2d55",
   "metadata": {},
   "outputs": [],
   "source": [
    "# first, I'm going to copy over that column to a new variable, test:\n",
    "# .copy() creates a copy so that any changes you make are not reflected \n",
    "# in the original dataframe. The double [[]] makes it so that the variable \n",
    "# test is a dataframe and not a series. Single [] will make it a series. \n",
    "# experiment with the two types and see what test looks like. And look up\n",
    "# the difference between a dataframe and a series. \n",
    "\n",
    "test = data[['spike_times']].copy()                     "
   ]
  },
  {
   "cell_type": "code",
   "execution_count": 175,
   "id": "4fb1ccd3-9989-49c1-afe4-a12d88bad3c0",
   "metadata": {},
   "outputs": [
    {
     "data": {
      "text/html": [
       "<div>\n",
       "<style scoped>\n",
       "    .dataframe tbody tr th:only-of-type {\n",
       "        vertical-align: middle;\n",
       "    }\n",
       "\n",
       "    .dataframe tbody tr th {\n",
       "        vertical-align: top;\n",
       "    }\n",
       "\n",
       "    .dataframe thead th {\n",
       "        text-align: right;\n",
       "    }\n",
       "</style>\n",
       "<table border=\"1\" class=\"dataframe\">\n",
       "  <thead>\n",
       "    <tr style=\"text-align: right;\">\n",
       "      <th></th>\n",
       "      <th>spike_times</th>\n",
       "    </tr>\n",
       "  </thead>\n",
       "  <tbody>\n",
       "    <tr>\n",
       "      <th>0</th>\n",
       "      <td>[3011.6695, 3011.9137, 3012.11, 3012.4227, 301...</td>\n",
       "    </tr>\n",
       "    <tr>\n",
       "      <th>1</th>\n",
       "      <td>[3006.3593, 3006.712, 3006.7858, 3006.9169, 30...</td>\n",
       "    </tr>\n",
       "    <tr>\n",
       "      <th>2</th>\n",
       "      <td>[3006.1441, 3006.9314, 3007.8643, 3008.1183, 3...</td>\n",
       "    </tr>\n",
       "    <tr>\n",
       "      <th>3</th>\n",
       "      <td>[3006.2986, 3006.898, 3006.9649, 3009.4302, 30...</td>\n",
       "    </tr>\n",
       "    <tr>\n",
       "      <th>4</th>\n",
       "      <td>[3006.0604, 3006.0801, 3006.087, 3006.0975, 30...</td>\n",
       "    </tr>\n",
       "  </tbody>\n",
       "</table>\n",
       "</div>"
      ],
      "text/plain": [
       "                                         spike_times\n",
       "0  [3011.6695, 3011.9137, 3012.11, 3012.4227, 301...\n",
       "1  [3006.3593, 3006.712, 3006.7858, 3006.9169, 30...\n",
       "2  [3006.1441, 3006.9314, 3007.8643, 3008.1183, 3...\n",
       "3  [3006.2986, 3006.898, 3006.9649, 3009.4302, 30...\n",
       "4  [3006.0604, 3006.0801, 3006.087, 3006.0975, 30..."
      ]
     },
     "execution_count": 175,
     "metadata": {},
     "output_type": "execute_result"
    }
   ],
   "source": [
    "# test is a dataframe with one column. \n",
    "test "
   ]
  },
  {
   "cell_type": "code",
   "execution_count": 177,
   "id": "266bf880-aa58-4255-b85e-4d03c4f0c82c",
   "metadata": {},
   "outputs": [],
   "source": [
    "# to use .applymap(), you just tell it which function to run on each element\n",
    "# reassign it to column to make the changes permanent. Note the doube [[]] indicating\n",
    "# that you want pandas to treat test as a dataframe\n",
    "test[['spike_times']] = test[['spike_times']].applymap(remove_nonnumericals)"
   ]
  },
  {
   "cell_type": "code",
   "execution_count": 192,
   "id": "74f69865-a56c-4aad-9128-1b76ba7d8b64",
   "metadata": {},
   "outputs": [
    {
     "name": "stdout",
     "output_type": "stream",
     "text": [
      "[3011.6695, 3011.9137, 3012.11, 3012.4227, 3012.4815, 3012.5556, 3012.6114, 3012.6574, 3012.7149, 3012.7869, 3012.8586, 3013.7223, 3015.7127, 3015.8751, 3016.0387, 3017.3065, 3022.995, 3023.0194, 3023.0691, 3023.1677]\n"
     ]
    }
   ],
   "source": [
    "# check that the contents of spike_times are not strings\n",
    "print(test['spike_times'][0][:20]) # the [:20] indicates to only print the first 20 elements"
   ]
  },
  {
   "cell_type": "markdown",
   "id": "4c8bacf2-21b2-4cee-8243-d6cd403f650a",
   "metadata": {},
   "source": [
    "Great! Now that we know how to run this on all rows of a dataframe, let's run the function on data, on the columns `spike_times`, `xpos`, and `ypos`"
   ]
  },
  {
   "cell_type": "code",
   "execution_count": 185,
   "id": "9be60d76-2991-4e08-b55a-ea5a2e386d55",
   "metadata": {},
   "outputs": [],
   "source": [
    "columns = ['spike_times', 'xpos', 'ypos']\n",
    "data[columns] = data[columns].applymap(remove_nonnumericals)"
   ]
  },
  {
   "cell_type": "code",
   "execution_count": 186,
   "id": "e329f5bc-904a-4f73-8a29-04cd2b6f45b7",
   "metadata": {},
   "outputs": [
    {
     "data": {
      "text/html": [
       "<div>\n",
       "<style scoped>\n",
       "    .dataframe tbody tr th:only-of-type {\n",
       "        vertical-align: middle;\n",
       "    }\n",
       "\n",
       "    .dataframe tbody tr th {\n",
       "        vertical-align: top;\n",
       "    }\n",
       "\n",
       "    .dataframe thead th {\n",
       "        text-align: right;\n",
       "    }\n",
       "</style>\n",
       "<table border=\"1\" class=\"dataframe\">\n",
       "  <thead>\n",
       "    <tr style=\"text-align: right;\">\n",
       "      <th></th>\n",
       "      <th>cell_location</th>\n",
       "      <th>spike_times</th>\n",
       "      <th>xpos</th>\n",
       "      <th>ypos</th>\n",
       "    </tr>\n",
       "  </thead>\n",
       "  <tbody>\n",
       "    <tr>\n",
       "      <th>0</th>\n",
       "      <td>PFC</td>\n",
       "      <td>[3011.6695, 3011.9137, 3012.11, 3012.4227, 301...</td>\n",
       "      <td>[237.55768558074016, 243.7838691801326, 249.18...</td>\n",
       "      <td>[166.57632882040514, 173.06106273107466, 178.2...</td>\n",
       "    </tr>\n",
       "    <tr>\n",
       "      <th>1</th>\n",
       "      <td>PFC</td>\n",
       "      <td>[3006.3593, 3006.712, 3006.7858, 3006.9169, 30...</td>\n",
       "      <td>[223.32564592014648, 226.48356431805794, 226.1...</td>\n",
       "      <td>[154.76509281910785, 157.8789482916286, 158.16...</td>\n",
       "    </tr>\n",
       "    <tr>\n",
       "      <th>2</th>\n",
       "      <td>PFC</td>\n",
       "      <td>[3006.1441, 3006.9314, 3007.8643, 3008.1183, 3...</td>\n",
       "      <td>[218.47932379992605, 224.757945854419, 212.246...</td>\n",
       "      <td>[150.63115406297476, 158.41162769162048, 155.1...</td>\n",
       "    </tr>\n",
       "    <tr>\n",
       "      <th>3</th>\n",
       "      <td>PFC</td>\n",
       "      <td>[3006.2986, 3006.898, 3006.9649, 3009.4302, 30...</td>\n",
       "      <td>[221.81836915179014, 225.21271250715918, 224.1...</td>\n",
       "      <td>[153.78094414930473, 158.3921647311753, 158.42...</td>\n",
       "    </tr>\n",
       "    <tr>\n",
       "      <th>4</th>\n",
       "      <td>CA1</td>\n",
       "      <td>[3006.0604, 3006.0801, 3006.087, 3006.0975, 30...</td>\n",
       "      <td>[215.78493244876762, 216.6905288982968, 216.69...</td>\n",
       "      <td>[147.04387577375925, 148.342314912474, 148.342...</td>\n",
       "    </tr>\n",
       "  </tbody>\n",
       "</table>\n",
       "</div>"
      ],
      "text/plain": [
       "  cell_location                                        spike_times  \\\n",
       "0           PFC  [3011.6695, 3011.9137, 3012.11, 3012.4227, 301...   \n",
       "1           PFC  [3006.3593, 3006.712, 3006.7858, 3006.9169, 30...   \n",
       "2           PFC  [3006.1441, 3006.9314, 3007.8643, 3008.1183, 3...   \n",
       "3           PFC  [3006.2986, 3006.898, 3006.9649, 3009.4302, 30...   \n",
       "4           CA1  [3006.0604, 3006.0801, 3006.087, 3006.0975, 30...   \n",
       "\n",
       "                                                xpos  \\\n",
       "0  [237.55768558074016, 243.7838691801326, 249.18...   \n",
       "1  [223.32564592014648, 226.48356431805794, 226.1...   \n",
       "2  [218.47932379992605, 224.757945854419, 212.246...   \n",
       "3  [221.81836915179014, 225.21271250715918, 224.1...   \n",
       "4  [215.78493244876762, 216.6905288982968, 216.69...   \n",
       "\n",
       "                                                ypos  \n",
       "0  [166.57632882040514, 173.06106273107466, 178.2...  \n",
       "1  [154.76509281910785, 157.8789482916286, 158.16...  \n",
       "2  [150.63115406297476, 158.41162769162048, 155.1...  \n",
       "3  [153.78094414930473, 158.3921647311753, 158.42...  \n",
       "4  [147.04387577375925, 148.342314912474, 148.342...  "
      ]
     },
     "execution_count": 186,
     "metadata": {},
     "output_type": "execute_result"
    }
   ],
   "source": [
    "data"
   ]
  },
  {
   "cell_type": "markdown",
   "id": "c9737ad5-f7ee-41e1-8993-8b2b9a305161",
   "metadata": {},
   "source": [
    "Now we have a function that we can use on any .csv file that we have saved to remove non-numerical characters and convert any numbers to float. "
   ]
  },
  {
   "cell_type": "code",
   "execution_count": 187,
   "id": "6765b3d3-5a00-4d5d-93f0-8a6dbaaf0727",
   "metadata": {},
   "outputs": [],
   "source": [
    "# for instance let's import another .csv and try it out:\n",
    "data2 = pd.read_csv('../clean_data/N2/day2_epoch5.csv')"
   ]
  },
  {
   "cell_type": "code",
   "execution_count": 188,
   "id": "7836220a-6f00-41e0-91fc-5058ff0add27",
   "metadata": {},
   "outputs": [
    {
     "data": {
      "text/plain": [
       "Index(['cell_location', 'spike_times', 'xpos', 'ypos'], dtype='object')"
      ]
     },
     "execution_count": 188,
     "metadata": {},
     "output_type": "execute_result"
    }
   ],
   "source": [
    "data2.columns"
   ]
  },
  {
   "cell_type": "code",
   "execution_count": 189,
   "id": "60b12d11-d07b-4e71-804a-67687c65bcd2",
   "metadata": {},
   "outputs": [],
   "source": [
    "columns = ['spike_times', 'xpos', 'ypos']\n",
    "data2[columns] = data2[columns].applymap(remove_nonnumericals)"
   ]
  },
  {
   "cell_type": "code",
   "execution_count": 193,
   "id": "470a20e8-c855-4f51-9e4f-a0521b8af987",
   "metadata": {},
   "outputs": [
    {
     "name": "stdout",
     "output_type": "stream",
     "text": [
      "[6251.9766, 6251.9904, 6251.9971, 6252.0201, 6252.0566, 6252.1108, 6252.1307, 6260.7671, 6260.8849, 6260.977, 6261.0187, 6261.0819, 6261.147, 6261.5293, 6261.6076, 6261.6727, 6261.7086, 6265.04, 6265.1534, 6265.236]\n"
     ]
    }
   ],
   "source": [
    "print(data2['spike_times'][0][:20])"
   ]
  },
  {
   "cell_type": "markdown",
   "id": "3040aa82-4e9f-4a89-9b4d-d6048db13ac9",
   "metadata": {
    "tags": []
   },
   "source": [
    "## Bonus!! \n",
    "**Taking this function and putting it in your own little python library that you can import and use in your project as needed**\n",
    "\n",
    "***Step 1***: in Jupyter **Lab** (not Notebook), navigate to the folder in which you have your code.  \n",
    "***Step 2***: click on the big blue button with the plus sign on it to open the launcher.  \n",
    "***Step 3***: Under the category 'Other', find the button for **python file** and click on it.   \n",
    "***Step 4***: This should open an empty sheet. Name the file 'helper.py'.  \n",
    "***Step 5***: At the top of the page, import whatever libraries you need. For this particular function, you will only need pandas and numpy.  \n",
    "***Step 6***: Below the imports, copy past the remove_nonnumericals function. So, your file should look like this (P.S: I've edited the comments a little):  \n",
    "\n",
    "```\n",
    "import pandas as pd\n",
    "import numpy as np\n",
    "\n",
    "def remove_nonnumericals(string):\n",
    "    # string is the string from which non-numerical characters need to be removed\n",
    "    \n",
    "    string_list = string.split()  # convert single string into a list.\n",
    "    \n",
    "    # create list of numerical charcters only\n",
    "    numeric_list = [''.join([char for char in element if (char.isdigit() or char=='.')]) for element in string_list]\n",
    "    \n",
    "    # convert strings to float\n",
    "    return [float(element) for element in list(filter(None, numeric_list))]\n",
    "```\n",
    "  \n",
    "\n",
    "***Step 7***: Save file  \n",
    "\n",
    "***Step 8***: Below is how you would use this function"
   ]
  },
  {
   "cell_type": "code",
   "execution_count": 199,
   "id": "1f389d46-d17a-4eb0-81a4-3df1033b228f",
   "metadata": {},
   "outputs": [],
   "source": [
    "import helper"
   ]
  },
  {
   "cell_type": "code",
   "execution_count": 200,
   "id": "efe44092-a7a9-44a0-bb54-7a2930d7b417",
   "metadata": {},
   "outputs": [],
   "source": [
    "data = pd.read_csv('../clean_data/N2/day9_epoch3.csv')"
   ]
  },
  {
   "cell_type": "code",
   "execution_count": 201,
   "id": "f505a074-ea23-40c4-956e-f135612da3f8",
   "metadata": {},
   "outputs": [],
   "source": [
    "columns = ['spike_times', 'xpos', 'ypos']"
   ]
  },
  {
   "cell_type": "code",
   "execution_count": 202,
   "id": "93f02320-0c0f-4c22-b761-2364abd6f853",
   "metadata": {},
   "outputs": [],
   "source": [
    "# since the function remove_nonnumericals is inside 'helper', you will have to call it\n",
    "# by using the syntax: helper.remove_nonnumericals\n",
    "\n",
    "data[columns] = data[columns].applymap(helper.remove_nonnumericals)"
   ]
  },
  {
   "cell_type": "code",
   "execution_count": 203,
   "id": "e5edb737-c851-4306-a138-bfbc573a7845",
   "metadata": {},
   "outputs": [
    {
     "data": {
      "text/html": [
       "<div>\n",
       "<style scoped>\n",
       "    .dataframe tbody tr th:only-of-type {\n",
       "        vertical-align: middle;\n",
       "    }\n",
       "\n",
       "    .dataframe tbody tr th {\n",
       "        vertical-align: top;\n",
       "    }\n",
       "\n",
       "    .dataframe thead th {\n",
       "        text-align: right;\n",
       "    }\n",
       "</style>\n",
       "<table border=\"1\" class=\"dataframe\">\n",
       "  <thead>\n",
       "    <tr style=\"text-align: right;\">\n",
       "      <th></th>\n",
       "      <th>cell_location</th>\n",
       "      <th>spike_times</th>\n",
       "      <th>xpos</th>\n",
       "      <th>ypos</th>\n",
       "    </tr>\n",
       "  </thead>\n",
       "  <tbody>\n",
       "    <tr>\n",
       "      <th>0</th>\n",
       "      <td>[]</td>\n",
       "      <td>[3961.1922, 3961.3061, 4008.0944, 4008.0953, 4...</td>\n",
       "      <td>[91.42547316390247, 89.21698980714933, 117.672...</td>\n",
       "      <td>[14.040697560751866, 11.418448285921562, 72.51...</td>\n",
       "    </tr>\n",
       "    <tr>\n",
       "      <th>1</th>\n",
       "      <td>PFC</td>\n",
       "      <td>[3960.1422, 3960.3297, 3960.9071, 3960.947, 39...</td>\n",
       "      <td>[123.00825630307283, 117.1086646764391, 98.681...</td>\n",
       "      <td>[48.52162885261702, 43.35842401920682, 22.6397...</td>\n",
       "    </tr>\n",
       "    <tr>\n",
       "      <th>2</th>\n",
       "      <td>PFC</td>\n",
       "      <td>[3966.1418, 4004.1915, 4007.6405, 4007.753, 40...</td>\n",
       "      <td>[82.00000000000003, 138.74668577322686, 124.93...</td>\n",
       "      <td>[4.962962962962969, 57.40302231581155, 62.3857...</td>\n",
       "    </tr>\n",
       "    <tr>\n",
       "      <th>3</th>\n",
       "      <td>PFC</td>\n",
       "      <td>[3960.0972, 3961.1852, 3961.2238, 3961.3257, 3...</td>\n",
       "      <td>[125.58011561890733, 91.42547316390247, 90.658...</td>\n",
       "      <td>[50.67007515511877, 14.040697560751866, 13.119...</td>\n",
       "    </tr>\n",
       "    <tr>\n",
       "      <th>4</th>\n",
       "      <td>PFC</td>\n",
       "      <td>[3960.1453, 3960.1723, 3960.4941, 3960.6535, 3...</td>\n",
       "      <td>[123.00825630307283, 121.76049400888625, 111.7...</td>\n",
       "      <td>[48.52162885261702, 47.466446422617764, 38.095...</td>\n",
       "    </tr>\n",
       "    <tr>\n",
       "      <th>5</th>\n",
       "      <td>PFC</td>\n",
       "      <td>[3960.2217, 3960.3043, 3960.5202, 3960.5365, 3...</td>\n",
       "      <td>[120.5411775732092, 118.21667100281972, 110.76...</td>\n",
       "      <td>[46.42128220445239, 44.3685628100202, 37.01002...</td>\n",
       "    </tr>\n",
       "    <tr>\n",
       "      <th>6</th>\n",
       "      <td>PFC</td>\n",
       "      <td>[3961.7863, 3962.0804, 3979.0415, 3983.4392, 3...</td>\n",
       "      <td>[82.59873596931648, 81.35356618180886, 134.743...</td>\n",
       "      <td>[4.9030532439492065, 3.962444694763355, 48.515...</td>\n",
       "    </tr>\n",
       "    <tr>\n",
       "      <th>7</th>\n",
       "      <td>PFC</td>\n",
       "      <td>[3961.7863, 3962.0804, 3979.0415, 3983.4392, 3...</td>\n",
       "      <td>[82.59873596931648, 81.35356618180886, 134.743...</td>\n",
       "      <td>[4.9030532439492065, 3.962444694763355, 48.515...</td>\n",
       "    </tr>\n",
       "    <tr>\n",
       "      <th>8</th>\n",
       "      <td>CA1</td>\n",
       "      <td>[3972.3216, 3972.3402, 4004.8282, 4017.2011, 4...</td>\n",
       "      <td>[82.68263774522785, 82.68263774522785, 131.304...</td>\n",
       "      <td>[4.969019300607184, 4.969019300607184, 63.1946...</td>\n",
       "    </tr>\n",
       "    <tr>\n",
       "      <th>9</th>\n",
       "      <td>CA1</td>\n",
       "      <td>[3972.3216, 3972.3402, 4004.8282, 4017.2011, 4...</td>\n",
       "      <td>[82.68263774522785, 82.68263774522785, 131.304...</td>\n",
       "      <td>[4.969019300607184, 4.969019300607184, 63.1946...</td>\n",
       "    </tr>\n",
       "    <tr>\n",
       "      <th>10</th>\n",
       "      <td>CA1</td>\n",
       "      <td>[3964.8064, 3970.2286, 4171.4713, 4226.3366, 4...</td>\n",
       "      <td>[82.0, 81.99999999999997, 84.38303460898571, 8...</td>\n",
       "      <td>[4.962962962962956, 4.962962962962949, 10.4348...</td>\n",
       "    </tr>\n",
       "    <tr>\n",
       "      <th>11</th>\n",
       "      <td>CA1</td>\n",
       "      <td>[3967.4284, 3969.2193, 3973.1949, 3984.2421, 3...</td>\n",
       "      <td>[82.00000000000003, 82.00000000000001, 83.0192...</td>\n",
       "      <td>[4.962962962962975, 4.962962962962962, 4.96296...</td>\n",
       "    </tr>\n",
       "    <tr>\n",
       "      <th>12</th>\n",
       "      <td>CA1</td>\n",
       "      <td>[3964.8388, 3969.4801, 4014.9528, 4015.2367, 4...</td>\n",
       "      <td>[82.0, 81.99999999999999, 142.31912522849237, ...</td>\n",
       "      <td>[4.962962962962956, 4.962962962962956, 159.885...</td>\n",
       "    </tr>\n",
       "    <tr>\n",
       "      <th>13</th>\n",
       "      <td>CA1</td>\n",
       "      <td>[3967.2962, 3969.2342, 3969.2409, 3969.2462, 3...</td>\n",
       "      <td>[81.99999999999999, 82.00000000000001, 82.0000...</td>\n",
       "      <td>[4.962962962962956, 4.962962962962962, 4.96296...</td>\n",
       "    </tr>\n",
       "    <tr>\n",
       "      <th>14</th>\n",
       "      <td>CA1</td>\n",
       "      <td>[4014.2795, 4015.6838, 4015.6971, 4018.0722, 4...</td>\n",
       "      <td>[138.5220981802563, 141.87807931131147, 141.78...</td>\n",
       "      <td>[170.66454315045652, 156.99038224070844, 156.8...</td>\n",
       "    </tr>\n",
       "  </tbody>\n",
       "</table>\n",
       "</div>"
      ],
      "text/plain": [
       "   cell_location                                        spike_times  \\\n",
       "0             []  [3961.1922, 3961.3061, 4008.0944, 4008.0953, 4...   \n",
       "1            PFC  [3960.1422, 3960.3297, 3960.9071, 3960.947, 39...   \n",
       "2            PFC  [3966.1418, 4004.1915, 4007.6405, 4007.753, 40...   \n",
       "3            PFC  [3960.0972, 3961.1852, 3961.2238, 3961.3257, 3...   \n",
       "4            PFC  [3960.1453, 3960.1723, 3960.4941, 3960.6535, 3...   \n",
       "5            PFC  [3960.2217, 3960.3043, 3960.5202, 3960.5365, 3...   \n",
       "6            PFC  [3961.7863, 3962.0804, 3979.0415, 3983.4392, 3...   \n",
       "7            PFC  [3961.7863, 3962.0804, 3979.0415, 3983.4392, 3...   \n",
       "8            CA1  [3972.3216, 3972.3402, 4004.8282, 4017.2011, 4...   \n",
       "9            CA1  [3972.3216, 3972.3402, 4004.8282, 4017.2011, 4...   \n",
       "10           CA1  [3964.8064, 3970.2286, 4171.4713, 4226.3366, 4...   \n",
       "11           CA1  [3967.4284, 3969.2193, 3973.1949, 3984.2421, 3...   \n",
       "12           CA1  [3964.8388, 3969.4801, 4014.9528, 4015.2367, 4...   \n",
       "13           CA1  [3967.2962, 3969.2342, 3969.2409, 3969.2462, 3...   \n",
       "14           CA1  [4014.2795, 4015.6838, 4015.6971, 4018.0722, 4...   \n",
       "\n",
       "                                                 xpos  \\\n",
       "0   [91.42547316390247, 89.21698980714933, 117.672...   \n",
       "1   [123.00825630307283, 117.1086646764391, 98.681...   \n",
       "2   [82.00000000000003, 138.74668577322686, 124.93...   \n",
       "3   [125.58011561890733, 91.42547316390247, 90.658...   \n",
       "4   [123.00825630307283, 121.76049400888625, 111.7...   \n",
       "5   [120.5411775732092, 118.21667100281972, 110.76...   \n",
       "6   [82.59873596931648, 81.35356618180886, 134.743...   \n",
       "7   [82.59873596931648, 81.35356618180886, 134.743...   \n",
       "8   [82.68263774522785, 82.68263774522785, 131.304...   \n",
       "9   [82.68263774522785, 82.68263774522785, 131.304...   \n",
       "10  [82.0, 81.99999999999997, 84.38303460898571, 8...   \n",
       "11  [82.00000000000003, 82.00000000000001, 83.0192...   \n",
       "12  [82.0, 81.99999999999999, 142.31912522849237, ...   \n",
       "13  [81.99999999999999, 82.00000000000001, 82.0000...   \n",
       "14  [138.5220981802563, 141.87807931131147, 141.78...   \n",
       "\n",
       "                                                 ypos  \n",
       "0   [14.040697560751866, 11.418448285921562, 72.51...  \n",
       "1   [48.52162885261702, 43.35842401920682, 22.6397...  \n",
       "2   [4.962962962962969, 57.40302231581155, 62.3857...  \n",
       "3   [50.67007515511877, 14.040697560751866, 13.119...  \n",
       "4   [48.52162885261702, 47.466446422617764, 38.095...  \n",
       "5   [46.42128220445239, 44.3685628100202, 37.01002...  \n",
       "6   [4.9030532439492065, 3.962444694763355, 48.515...  \n",
       "7   [4.9030532439492065, 3.962444694763355, 48.515...  \n",
       "8   [4.969019300607184, 4.969019300607184, 63.1946...  \n",
       "9   [4.969019300607184, 4.969019300607184, 63.1946...  \n",
       "10  [4.962962962962956, 4.962962962962949, 10.4348...  \n",
       "11  [4.962962962962975, 4.962962962962962, 4.96296...  \n",
       "12  [4.962962962962956, 4.962962962962956, 159.885...  \n",
       "13  [4.962962962962956, 4.962962962962962, 4.96296...  \n",
       "14  [170.66454315045652, 156.99038224070844, 156.8...  "
      ]
     },
     "execution_count": 203,
     "metadata": {},
     "output_type": "execute_result"
    }
   ],
   "source": [
    "data"
   ]
  },
  {
   "cell_type": "code",
   "execution_count": 204,
   "id": "8002fbb8-ed3b-4874-b0d2-693bb4ab3dc6",
   "metadata": {},
   "outputs": [
    {
     "data": {
      "text/plain": [
       "[3961.1922,\n",
       " 3961.3061,\n",
       " 4008.0944,\n",
       " 4008.0953,\n",
       " 4008.1114,\n",
       " 4008.1558,\n",
       " 4008.1586,\n",
       " 4008.1635,\n",
       " 4008.3617,\n",
       " 4011.01,\n",
       " 4011.0293,\n",
       " 4021.1225,\n",
       " 4056.3286,\n",
       " 4056.3323,\n",
       " 4056.3447,\n",
       " 4056.5171,\n",
       " 4062.7966,\n",
       " 4062.8041,\n",
       " 4062.8161,\n",
       " 4062.8204]"
      ]
     },
     "execution_count": 204,
     "metadata": {},
     "output_type": "execute_result"
    }
   ],
   "source": [
    "data['spike_times'][0][:20]"
   ]
  },
  {
   "cell_type": "code",
   "execution_count": null,
   "id": "9cf01927-e550-470a-a084-6e921703b065",
   "metadata": {},
   "outputs": [],
   "source": []
  }
 ],
 "metadata": {
  "kernelspec": {
   "display_name": "Python 3 (ipykernel)",
   "language": "python",
   "name": "python3"
  },
  "language_info": {
   "codemirror_mode": {
    "name": "ipython",
    "version": 3
   },
   "file_extension": ".py",
   "mimetype": "text/x-python",
   "name": "python",
   "nbconvert_exporter": "python",
   "pygments_lexer": "ipython3",
   "version": "3.9.7"
  }
 },
 "nbformat": 4,
 "nbformat_minor": 5
}
